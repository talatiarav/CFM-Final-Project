{
 "cells": [
  {
   "cell_type": "code",
   "execution_count": 38,
   "metadata": {},
   "outputs": [],
   "source": [
    "#These are the libraries you can use.  You may add any libraries directy related to threading if this is a direction\n",
    "#you wish to go (this is not from the course, so it's entire‰ly on you if you wish to use threading).  Any\n",
    "#further libraries you wish to use you must email me, james@uwaterloo.ca, for permission.\n",
    "\n",
    "from IPython.display import display, Math, Latex\n",
    "\n",
    "import pandas as pd\n",
    "import numpy as np\n",
    "import numpy_financial as npf\n",
    "import yfinance as yf\n",
    "import matplotlib.pyplot as plt\n",
    "import random\n",
    "from datetime import datetime"
   ]
  },
  {
   "cell_type": "markdown",
   "metadata": {},
   "source": [
    "## Group Assignment\n",
    "### Team Number: XX\n",
    "### Team Member Names:\n",
    "### Team Strategy Chosen: __________(Market Beat or Market Meet)"
   ]
  },
  {
   "cell_type": "markdown",
   "metadata": {},
   "source": [
    "Disclose any use of AI for this assignment below (detail where and how you used it).  Please see the course outline for acceptable uses of AI.\n"
   ]
  },
  {
   "cell_type": "code",
   "execution_count": 39,
   "metadata": {
    "tags": []
   },
   "outputs": [
    {
     "output_type": "execute_result",
     "data": {
      "text/plain": [
       "['AAPL',\n",
       " 'ABBV',\n",
       " 'ABT',\n",
       " 'ACN',\n",
       " 'AIG',\n",
       " 'AMZN',\n",
       " 'AXP',\n",
       " 'BA',\n",
       " 'BAC',\n",
       " 'BB.TO',\n",
       " 'BIIB',\n",
       " 'BK',\n",
       " 'BLK',\n",
       " 'BMY',\n",
       " 'C',\n",
       " 'CAT',\n",
       " 'CL',\n",
       " 'KO',\n",
       " 'LLY',\n",
       " 'LMT',\n",
       " 'MO',\n",
       " 'MRK',\n",
       " 'PEP',\n",
       " 'PFE',\n",
       " 'PG',\n",
       " 'PM',\n",
       " 'PYPL',\n",
       " 'QCOM',\n",
       " 'RY.TO',\n",
       " 'SHOP.TO',\n",
       " 'T.TO',\n",
       " 'TD.TO',\n",
       " 'TXN',\n",
       " 'UNH',\n",
       " 'UNP',\n",
       " 'UPS',\n",
       " 'USB']"
      ]
     },
     "metadata": {},
     "execution_count": 39
    }
   ],
   "source": [
    "# filtering out companies that don't meet basic bench marks\n",
    "\n",
    "stock_csv = \"Tickers_Example.csv\"\n",
    "\n",
    "stocks = pd.read_csv(stock_csv, header=None)\n",
    "\n",
    "stocks.columns = ['Column1']\n",
    "\n",
    "start_date = \"2023-10-01\"\n",
    "\n",
    "end_date = \"2024-09-30\"\n",
    "\n",
    "stock_list = []\n",
    "\n",
    "count = 0\n",
    "    \n",
    "for tckr in stocks[\"Column1\"]:\n",
    "    stock = yf.Ticker(tckr)\n",
    "\n",
    "    if \"currency\" in stock.info.keys():\n",
    "        stock_currency = stock.info[\"currency\"]\n",
    "    \n",
    "        stock_hist = stock.history(start=start_date, end=end_date, interval = \"1mo\")\n",
    "\n",
    "        stock_volume = stock_hist.Volume.mean()\n",
    "\n",
    "        if (stock_currency == \"USD\" or stock_currency == \"CAD\"):\n",
    "            if (stock_volume.mean() > 100000):\n",
    "                stock_list.append(tckr)\n",
    "                #if count == 0:\n",
    "                    #stock_df = pd.DataFrame({tckr : stock.history(start=start_date, end=end_date).Close})\n",
    "                    #count += 1\n",
    "                #else:\n",
    "                    #stock_df[tckr] = stock.history(start=start_date, end=end_date).Close\n",
    "\n",
    "\n",
    "\n",
    "stock_list"
   ]
  },
  {
   "cell_type": "code",
   "execution_count": 74,
   "metadata": {},
   "outputs": [
    {
     "output_type": "execute_result",
     "data": {
      "text/plain": [
       "{'Technology': 43.457508,\n",
       " 'Healthcare': 24.115135,\n",
       " 'Financial Services': 22.434141,\n",
       " 'Consumer Cyclical': 33.346874,\n",
       " 'Energy': 8.8660755,\n",
       " 'Utilities': 28.26405,\n",
       " 'Consumer Defensive': 27.266237,\n",
       " 'Industrials': 17.707037,\n",
       " 'Real Estate': 33.248898,\n",
       " 'Communication Services': 36.526608}"
      ]
     },
     "metadata": {},
     "execution_count": 74
    }
   ],
   "source": [
    "sector_etfs = {\n",
    "    \"Technology\": \"XLK\",\n",
    "    \"Healthcare\": \"XLV\",\n",
    "    \"Financial Services\": \"XLF\",\n",
    "    \"Consumer Cyclical\": \"XLY\",\n",
    "    \"Energy\": \"XLE\",\n",
    "    \"Utilities\": \"XLU\",\n",
    "    \"Consumer Defensive\": \"XLP\",\n",
    "    \"Industrials\": \"XLB\",\n",
    "    \"Real Estate\": \"XLRE\",\n",
    "    \"Communication Services\": \"XLC\"\n",
    "}\n",
    "\n",
    "# Function to get P/E ratio for sector ETFs\n",
    "def get_sector_pe_data(sector_etfs):\n",
    "    sector_pe_data = {}\n",
    "    for sector, etf in sector_etfs.items():\n",
    "        \n",
    "        # Fetch ETF data\n",
    "        sector_etf = yf.Ticker(etf)\n",
    "        info = sector_etf.info\n",
    "        \n",
    "        # Get the P/E ratio of the sector ETF\n",
    "        pe_ratio = info.get('trailingPE', None)\n",
    "        \n",
    "        if pe_ratio:\n",
    "            sector_pe_data[sector] = pe_ratio\n",
    "    \n",
    "    return sector_pe_data\n",
    "\n",
    "# Get sector P/E data for each ETF\n",
    "sector_pe_data = get_sector_pe_data(sector_etfs)\n",
    "\n",
    "sector_pe_data"
   ]
  },
  {
   "cell_type": "code",
   "execution_count": 73,
   "metadata": {},
   "outputs": [
    {
     "output_type": "execute_result",
     "data": {
      "text/plain": [
       "{'AAPL': {'sector': 'Technology', 'PE': 37.38962},\n",
       " 'ABBV': {'sector': 'Healthcare', 'PE': 58.184673},\n",
       " 'ABT': {'sector': 'Healthcare', 'PE': 35.29787},\n",
       " 'ACN': {'sector': 'Technology', 'PE': 31.03937},\n",
       " 'AIG': {'sector': 'Financial Services', 'PE': 14.886679},\n",
       " 'AMZN': {'sector': 'Consumer Cyclical', 'PE': 42.89126},\n",
       " 'AXP': {'sector': 'Financial Services', 'PE': 21.075056},\n",
       " 'BA': {'sector': 'Industrials', 'PE': None},\n",
       " 'BAC': {'sector': 'Financial Services', 'PE': 16.696703},\n",
       " 'BB.TO': {'sector': 'Technology', 'PE': None},\n",
       " 'BIIB': {'sector': 'Healthcare', 'PE': 13.925926},\n",
       " 'BK': {'sector': 'Financial Services', 'PE': 17.369127},\n",
       " 'BLK': {'sector': 'Financial Services', 'PE': 25.386229},\n",
       " 'BMY': {'sector': 'Healthcare', 'PE': None},\n",
       " 'C': {'sector': 'Financial Services', 'PE': 19.466951},\n",
       " 'CAT': {'sector': 'Industrials', 'PE': 17.653275},\n",
       " 'CL': {'sector': 'Consumer Defensive', 'PE': 27.091953},\n",
       " 'KO': {'sector': 'Consumer Defensive', 'PE': 26.047718},\n",
       " 'LLY': {'sector': 'Healthcare', 'PE': 81.19525},\n",
       " 'LMT': {'sector': 'Industrials', 'PE': 19.313906},\n",
       " 'MO': {'sector': 'Consumer Defensive', 'PE': 9.418919},\n",
       " 'MRK': {'sector': 'Healthcare', 'PE': 20.3818},\n",
       " 'PEP': {'sector': 'Consumer Defensive', 'PE': 23.33137},\n",
       " 'PFE': {'sector': 'Healthcare', 'PE': 33.28},\n",
       " 'PG': {'sector': 'Consumer Defensive', 'PE': 29.313253},\n",
       " 'PM': {'sector': 'Consumer Defensive', 'PE': 20.772223},\n",
       " 'PYPL': {'sector': 'Financial Services', 'PE': 20.221292},\n",
       " 'QCOM': {'sector': 'Technology', 'PE': 17.240494},\n",
       " 'RY.TO': {'sector': 'Financial Services', 'PE': 15.052212},\n",
       " 'SHOP.TO': {'sector': 'Technology', 'PE': 96.0},\n",
       " 'T.TO': {'sector': 'Communication Services', 'PE': 34.174606},\n",
       " 'TD.TO': {'sector': 'Financial Services', 'PE': 18.032408},\n",
       " 'TXN': {'sector': 'Technology', 'PE': 36.71245},\n",
       " 'UNH': {'sector': 'Healthcare', 'PE': 38.585335},\n",
       " 'UNP': {'sector': 'Industrials', 'PE': 21.364305},\n",
       " 'UPS': {'sector': 'Industrials', 'PE': 19.835348},\n",
       " 'USB': {'sector': 'Financial Services', 'PE': 15.583077}}"
      ]
     },
     "metadata": {},
     "execution_count": 73
    }
   ],
   "source": [
    "def get_stock_pe(tickers):\n",
    "    stock_data = {}\n",
    "    for ticker in tickers:\n",
    "        \n",
    "        stock = yf.Ticker(ticker)\n",
    "        # Get stock info\n",
    "        info = stock.info\n",
    "        sector = info.get('sector', 'N/A')\n",
    "        pe_ratio = info.get('trailingPE', None)  # trailing P/E ratio\n",
    "        pb_ratio = info.get('priceToBook', None)\n",
    "        \n",
    "        # Add data to dictionary\n",
    "        if (sector != 'N/A'): \n",
    "            if pe_ratio:\n",
    "                stock_data[ticker] = {'sector': sector, 'PE': pe_ratio}\n",
    "            else:\n",
    "                stock_data[ticker] = {'sector': sector, 'PE': None}\n",
    "        else:\n",
    "            if pe_ratio:\n",
    "                stock_data[ticker] = {'sector': 'N/A', 'PE': pe_ratio}\n",
    "            else:\n",
    "                stock_data[ticker] = {'sector': 'N/A', 'PE': None}\n",
    "\n",
    "    return stock_data\n",
    "\n",
    "stock_pe = get_stock_pe(stock_list)\n",
    "\n",
    "stock_pe"
   ]
  },
  {
   "cell_type": "code",
   "execution_count": 72,
   "metadata": {},
   "outputs": [
    {
     "output_type": "stream",
     "name": "stdout",
     "text": [
      "higher: 12\nlower: 22\nnone: 3\n"
     ]
    },
    {
     "output_type": "execute_result",
     "data": {
      "text/plain": [
       "                    AAPL        ABBV         ABT         ACN  \\\n",
       "sector        Technology  Healthcare  Healthcare  Technology   \n",
       "PE             37.372322   58.161327    35.28441   31.027945   \n",
       "comparisonPE       lower      higher      higher       lower   \n",
       "\n",
       "                             AIG               AMZN                 AXP  \\\n",
       "sector        Financial Services  Consumer Cyclical  Financial Services   \n",
       "PE                     14.882703          42.867805           21.077263   \n",
       "comparisonPE               lower             higher               lower   \n",
       "\n",
       "                       BA                 BAC       BB.TO  ...        QCOM  \\\n",
       "sector        Industrials  Financial Services  Technology  ...  Technology   \n",
       "PE                   None           16.692028        None  ...    17.23602   \n",
       "comparisonPE         None               lower        None  ...       lower   \n",
       "\n",
       "                           RY.TO     SHOP.TO                    T.TO  \\\n",
       "sector        Financial Services  Technology  Communication Services   \n",
       "PE                     15.052212   96.079994               34.174606   \n",
       "comparisonPE               lower      higher                   lower   \n",
       "\n",
       "                           TD.TO         TXN         UNH          UNP  \\\n",
       "sector        Financial Services  Technology  Healthcare  Industrials   \n",
       "PE                     18.030092   36.721706   38.594414    21.361574   \n",
       "comparisonPE               lower       lower      higher       higher   \n",
       "\n",
       "                      UPS                 USB  \n",
       "sector        Industrials  Financial Services  \n",
       "PE              19.834986           15.580677  \n",
       "comparisonPE       higher               lower  \n",
       "\n",
       "[3 rows x 37 columns]"
      ],
      "text/html": "<div>\n<style scoped>\n    .dataframe tbody tr th:only-of-type {\n        vertical-align: middle;\n    }\n\n    .dataframe tbody tr th {\n        vertical-align: top;\n    }\n\n    .dataframe thead th {\n        text-align: right;\n    }\n</style>\n<table border=\"1\" class=\"dataframe\">\n  <thead>\n    <tr style=\"text-align: right;\">\n      <th></th>\n      <th>AAPL</th>\n      <th>ABBV</th>\n      <th>ABT</th>\n      <th>ACN</th>\n      <th>AIG</th>\n      <th>AMZN</th>\n      <th>AXP</th>\n      <th>BA</th>\n      <th>BAC</th>\n      <th>BB.TO</th>\n      <th>...</th>\n      <th>QCOM</th>\n      <th>RY.TO</th>\n      <th>SHOP.TO</th>\n      <th>T.TO</th>\n      <th>TD.TO</th>\n      <th>TXN</th>\n      <th>UNH</th>\n      <th>UNP</th>\n      <th>UPS</th>\n      <th>USB</th>\n    </tr>\n  </thead>\n  <tbody>\n    <tr>\n      <th>sector</th>\n      <td>Technology</td>\n      <td>Healthcare</td>\n      <td>Healthcare</td>\n      <td>Technology</td>\n      <td>Financial Services</td>\n      <td>Consumer Cyclical</td>\n      <td>Financial Services</td>\n      <td>Industrials</td>\n      <td>Financial Services</td>\n      <td>Technology</td>\n      <td>...</td>\n      <td>Technology</td>\n      <td>Financial Services</td>\n      <td>Technology</td>\n      <td>Communication Services</td>\n      <td>Financial Services</td>\n      <td>Technology</td>\n      <td>Healthcare</td>\n      <td>Industrials</td>\n      <td>Industrials</td>\n      <td>Financial Services</td>\n    </tr>\n    <tr>\n      <th>PE</th>\n      <td>37.372322</td>\n      <td>58.161327</td>\n      <td>35.28441</td>\n      <td>31.027945</td>\n      <td>14.882703</td>\n      <td>42.867805</td>\n      <td>21.077263</td>\n      <td>None</td>\n      <td>16.692028</td>\n      <td>None</td>\n      <td>...</td>\n      <td>17.23602</td>\n      <td>15.052212</td>\n      <td>96.079994</td>\n      <td>34.174606</td>\n      <td>18.030092</td>\n      <td>36.721706</td>\n      <td>38.594414</td>\n      <td>21.361574</td>\n      <td>19.834986</td>\n      <td>15.580677</td>\n    </tr>\n    <tr>\n      <th>comparisonPE</th>\n      <td>lower</td>\n      <td>higher</td>\n      <td>higher</td>\n      <td>lower</td>\n      <td>lower</td>\n      <td>higher</td>\n      <td>lower</td>\n      <td>None</td>\n      <td>lower</td>\n      <td>None</td>\n      <td>...</td>\n      <td>lower</td>\n      <td>lower</td>\n      <td>higher</td>\n      <td>lower</td>\n      <td>lower</td>\n      <td>lower</td>\n      <td>higher</td>\n      <td>higher</td>\n      <td>higher</td>\n      <td>lower</td>\n    </tr>\n  </tbody>\n</table>\n<p>3 rows × 37 columns</p>\n</div>"
     },
     "metadata": {},
     "execution_count": 72
    }
   ],
   "source": [
    "def compare_pe_to_sector(stock_data, sector_pe_data):\n",
    "    # Print comparison of P/E ratios for each stock\n",
    "\n",
    "    count_high = 0\n",
    "    count_low = 0\n",
    "    count_none = 0\n",
    "\n",
    "    for tckr, data in stock_data.items():\n",
    "        sector = data['sector']\n",
    "        pe = data['PE']\n",
    "        #pb = data['PB']\n",
    "        \n",
    "        if sector != 'N/A' and pe is not None:\n",
    "            pe_sector_avg = sector_pe_data.get(sector, None)\n",
    "            if pe_sector_avg is not None:\n",
    "                if pe > pe_sector_avg:\n",
    "                    stock_data[tckr][\"comparisonPE\"] = \"higher\"\n",
    "                    count_high += 1\n",
    "                elif pe < pe_sector_avg:\n",
    "                    stock_data[tckr][\"comparisonPE\"] = \"lower\"\n",
    "                    count_low += 1\n",
    "                else:\n",
    "                    stock_data[tckr][\"comparisonPE\"] = \"equal\"\n",
    "                    count_high += 1\n",
    "        else:\n",
    "            stock_data[tckr][\"comparisonPE\"] = \"None\"\n",
    "            count_none += 1\n",
    "        \n",
    "    print (\"higher: \" + str(count_high))\n",
    "    print (\"lower: \" + str(count_low))\n",
    "    print (\"none: \" + str(count_none))\n",
    "\n",
    "compare_pe_to_sector(stock_pe, sector_pe_data)\n",
    "\n",
    "stock_df = pd.DataFrame(stock_pe)\n",
    "\n",
    "stock_df"
   ]
  },
  {
   "cell_type": "markdown",
   "metadata": {},
   "source": [
    "## Contribution Declaration\n",
    "\n",
    "The following team members made a meaningful contribution to this assignment:\n",
    "\n",
    "Insert Names Here."
   ]
  }
 ],
 "metadata": {
  "kernelspec": {
   "display_name": "Python 3 (ipykernel)",
   "language": "python",
   "name": "python3"
  },
  "language_info": {
   "codemirror_mode": {
    "name": "ipython",
    "version": 3
   },
   "file_extension": ".py",
   "mimetype": "text/x-python",
   "name": "python",
   "nbconvert_exporter": "python",
   "pygments_lexer": "ipython3",
   "version": "3.12.4-final"
  }
 },
 "nbformat": 4,
 "nbformat_minor": 2
}