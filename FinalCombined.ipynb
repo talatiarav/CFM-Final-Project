{
 "cells": [
  {
   "cell_type": "code",
   "execution_count": 4,
   "metadata": {},
   "outputs": [],
   "source": [
    "#These are the libraries you can use.  You may add any libraries directy related to threading if this is a direction\n",
    "#you wish to go (this is not from the course, so it's entire‰ly on you if you wish to use threading).  Any\n",
    "#further libraries you wish to use you must email me, james@uwaterloo.ca, for permission.\n",
    "\n",
    "from IPython.display import display, Math, Latex\n",
    "\n",
    "import pandas as pd\n",
    "import numpy as np\n",
    "import numpy_financial as npf\n",
    "import yfinance as yf\n",
    "import matplotlib.pyplot as plt\n",
    "import random\n",
    "from datetime import datetime\n",
    "import time"
   ]
  },
  {
   "cell_type": "markdown",
   "metadata": {},
   "source": [
    "## Group Assignment\n",
    "### Team Number: 04\n",
    "### Team Member Names: Arav Talati, Iris Hu, Nyra Rodrigues\n",
    "### Team Strategy Chosen: Market Beat"
   ]
  },
  {
   "cell_type": "markdown",
   "metadata": {},
   "source": [
    "Disclose any use of AI for this assignment below (detail where and how you used it).  Please see the course outline for acceptable uses of AI.\n"
   ]
  },
  {
   "cell_type": "code",
   "execution_count": 5,
   "metadata": {},
   "outputs": [
    {
     "output_type": "execute_result",
     "data": {
      "text/plain": [
       "['AAPL',\n",
       " 'ABBV',\n",
       " 'ABT',\n",
       " 'ACN',\n",
       " 'AIG',\n",
       " 'AMZN',\n",
       " 'AXP',\n",
       " 'BA',\n",
       " 'BAC',\n",
       " 'BB.TO',\n",
       " 'BIIB',\n",
       " 'BK',\n",
       " 'BLK',\n",
       " 'BMY',\n",
       " 'C',\n",
       " 'CAT',\n",
       " 'CL',\n",
       " 'KO',\n",
       " 'LLY',\n",
       " 'LMT',\n",
       " 'MO',\n",
       " 'MRK',\n",
       " 'PEP',\n",
       " 'PFE',\n",
       " 'PG',\n",
       " 'PM',\n",
       " 'PYPL',\n",
       " 'QCOM',\n",
       " 'RY.TO',\n",
       " 'SHOP.TO',\n",
       " 'T.TO',\n",
       " 'TD.TO',\n",
       " 'TXN',\n",
       " 'UNH',\n",
       " 'UNP',\n",
       " 'UPS',\n",
       " 'USB']"
      ]
     },
     "metadata": {},
     "execution_count": 5
    }
   ],
   "source": [
    "stock_csv = \"Tickers_Example.csv\"\n",
    "\n",
    "# Read the stock symbols from CSV\n",
    "stocks = pd.read_csv(stock_csv, header=None)\n",
    "stocks.columns = ['Column1']\n",
    "\n",
    "start_date = \"2023-10-01\"\n",
    "end_date = \"2024-09-30\"\n",
    "\n",
    "stock_list = []\n",
    "\n",
    "# Loop through each ticker\n",
    "for tckr in stocks[\"Column1\"]:\n",
    "    stock = yf.Ticker(tckr)\n",
    "\n",
    "    # Check if the stock has 'currency' in the info\n",
    "    if \"currency\" in stock.info.keys():\n",
    "        stock_currency = stock.info[\"currency\"]\n",
    "        \n",
    "        # Get the historical data for the ticker with monthly intervals\n",
    "        stock_hist = stock.history(start=start_date, end=end_date, interval=\"1mo\")\n",
    "        time.sleep(0.3)\n",
    "\n",
    "        # Calculate the average volume over the valid months\n",
    "        if not stock_hist.empty:  # If there's data after dropping NaN volumes\n",
    "            stock_volume = stock_hist['Volume'].dropna().mean()\n",
    "\n",
    "            # Check if currency is USD or CAD and if the volume is above 100,000\n",
    "            if (stock_currency == \"USD\" or stock_currency == \"CAD\") and stock_volume > 100000:\n",
    "                stock_list.append(tckr)\n",
    "\n",
    "# Final list of tickers that meet the criteria\n",
    "stock_list\n"
   ]
  },
  {
   "cell_type": "code",
   "execution_count": 9,
   "metadata": {},
   "outputs": [],
   "source": [
    "start_date = \"2024-09-01\"\n",
    "end_date = datetime.today()\n",
    "\n",
    "MarketIndex1 = \"^GSPTSE\"  # TSX 60 #confirm ticker\n",
    "MarketIndex2 = \"^GSPC\"  # S&P 500\n",
    "\n",
    "\n",
    "market_hist1 = yf.Ticker(MarketIndex1).history(start=start_date, end=end_date)['Close']\n",
    "market_hist2 = yf.Ticker(MarketIndex2).history(start=start_date, end=end_date)['Close']\n",
    "\n",
    "market_hist1[\"Returns\"] = market_hist1.pct_change() * 100\n",
    "market_hist2[\"Returns\"] = market_hist2.pct_change() * 100\n",
    "\n",
    "market_avg_returns = (market_hist1[\"Returns\"] + market_hist2[\"Returns\"]) / 2\n",
    "\n",
    "market_var = market_avg_returns.var()\n",
    "\n",
    "# get_stock_beta returns the beta of the ticker inputted\n",
    "def beta_val(stock_returns):\n",
    "    df = pd.DataFrame({\"Market Returns\": market_avg_returns, \"Stock Returns\": stock_returns}).dropna()\n",
    "    covariance = df.cov().iloc[0, 1]\n",
    "    return covariance / market_var\n",
    "\n",
    "\n",
    "#betas_list takes a list of tickers and outputs a list of all the betas of every ticker in the list\n",
    "def betas_list(ticker_list):\n",
    "    betas = {}\n",
    "    for ticker in ticker_list:\n",
    "        stock_hist = yf.Ticker(ticker).history(start=start_date, end=end_date)['Close']\n",
    "        time.sleep(0.3)\n",
    "        ticker_returns = stock_hist.pct_change()*100 \n",
    "        betas[ticker] = beta_val(ticker_returns)\n",
    "    return betas\n",
    "\n",
    "\n",
    "all_betas = betas_list(stock_list)"
   ]
  },
  {
   "cell_type": "code",
   "execution_count": 10,
   "metadata": {},
   "outputs": [],
   "source": [
    "beta_dict = betas_list(all_betas.keys())  #change based on taken\n",
    "beta_df = pd.DataFrame.from_dict(beta_dict, orient='index')\n",
    "beta_df.columns = ['Beta']\n",
    "beta_df.index.name = 'Ticker'"
   ]
  },
  {
   "cell_type": "code",
   "execution_count": 11,
   "metadata": {},
   "outputs": [
    {
     "output_type": "execute_result",
     "data": {
      "text/plain": [
       "             Beta\n",
       "Ticker           \n",
       "BIIB     1.041760\n",
       "ACN      1.084696\n",
       "AIG      1.176270\n",
       "PYPL     1.349026\n",
       "TXN      1.493181\n",
       "BAC      1.535396\n",
       "USB      1.550365\n",
       "AXP      1.766467\n",
       "C        1.887325\n",
       "CAT      1.931686\n",
       "QCOM     1.975313\n",
       "AMZN     1.997075\n",
       "BB.TO    2.117436\n",
       "SHOP.TO  2.315272"
      ],
      "text/html": "<div>\n<style scoped>\n    .dataframe tbody tr th:only-of-type {\n        vertical-align: middle;\n    }\n\n    .dataframe tbody tr th {\n        vertical-align: top;\n    }\n\n    .dataframe thead th {\n        text-align: right;\n    }\n</style>\n<table border=\"1\" class=\"dataframe\">\n  <thead>\n    <tr style=\"text-align: right;\">\n      <th></th>\n      <th>Beta</th>\n    </tr>\n    <tr>\n      <th>Ticker</th>\n      <th></th>\n    </tr>\n  </thead>\n  <tbody>\n    <tr>\n      <th>BIIB</th>\n      <td>1.041760</td>\n    </tr>\n    <tr>\n      <th>ACN</th>\n      <td>1.084696</td>\n    </tr>\n    <tr>\n      <th>AIG</th>\n      <td>1.176270</td>\n    </tr>\n    <tr>\n      <th>PYPL</th>\n      <td>1.349026</td>\n    </tr>\n    <tr>\n      <th>TXN</th>\n      <td>1.493181</td>\n    </tr>\n    <tr>\n      <th>BAC</th>\n      <td>1.535396</td>\n    </tr>\n    <tr>\n      <th>USB</th>\n      <td>1.550365</td>\n    </tr>\n    <tr>\n      <th>AXP</th>\n      <td>1.766467</td>\n    </tr>\n    <tr>\n      <th>C</th>\n      <td>1.887325</td>\n    </tr>\n    <tr>\n      <th>CAT</th>\n      <td>1.931686</td>\n    </tr>\n    <tr>\n      <th>QCOM</th>\n      <td>1.975313</td>\n    </tr>\n    <tr>\n      <th>AMZN</th>\n      <td>1.997075</td>\n    </tr>\n    <tr>\n      <th>BB.TO</th>\n      <td>2.117436</td>\n    </tr>\n    <tr>\n      <th>SHOP.TO</th>\n      <td>2.315272</td>\n    </tr>\n  </tbody>\n</table>\n</div>"
     },
     "metadata": {},
     "execution_count": 11
    }
   ],
   "source": [
    "#Sorts the dictionary from lowest beta to highest beta\n",
    "sorted_beta_df = beta_df.sort_values('Beta').copy()\n",
    "\n",
    "#Creates a dataframe with the 10 highest betas\n",
    "#eligible_stocks = sorted_beta_df.loc[sorted_beta_df['Beta'] >= 1]\n",
    "\n",
    "if (len(sorted_beta_df.loc[sorted_beta_df['Beta'] >= 1].index) < 12):\n",
    "    eligible_stocks = sorted_beta_df.iloc[-15:]\n",
    "elif ((len(sorted_beta_df.loc[sorted_beta_df['Beta'] >= 1].index) > 30)): \n",
    "    eligible_stocks = sorted_beta_df.iloc[-30:] \n",
    "else:\n",
    "    eligible_stocks = sorted_beta_df.loc[sorted_beta_df['Beta'] >= 1]\n",
    "    \n",
    "eligible_stocks"
   ]
  },
  {
   "cell_type": "code",
   "execution_count": 12,
   "metadata": {},
   "outputs": [
    {
     "output_type": "execute_result",
     "data": {
      "text/plain": [
       "             Beta  Sharpe Ratio\n",
       "Ticker                         \n",
       "SHOP.TO  2.315272      0.234617\n",
       "PYPL     1.349026      0.160883\n",
       "AXP      1.766467      0.154310\n",
       "BAC      1.535396      0.151914\n",
       "CAT      1.931686      0.135296\n",
       "AMZN     1.997075      0.120563\n",
       "USB      1.550365      0.116997\n",
       "C        1.887325      0.115077\n",
       "ACN      1.084696      0.072816\n",
       "BB.TO    2.117436      0.057162\n",
       "AIG      1.176270      0.012892\n",
       "TXN      1.493181     -0.001034"
      ],
      "text/html": "<div>\n<style scoped>\n    .dataframe tbody tr th:only-of-type {\n        vertical-align: middle;\n    }\n\n    .dataframe tbody tr th {\n        vertical-align: top;\n    }\n\n    .dataframe thead th {\n        text-align: right;\n    }\n</style>\n<table border=\"1\" class=\"dataframe\">\n  <thead>\n    <tr style=\"text-align: right;\">\n      <th></th>\n      <th>Beta</th>\n      <th>Sharpe Ratio</th>\n    </tr>\n    <tr>\n      <th>Ticker</th>\n      <th></th>\n      <th></th>\n    </tr>\n  </thead>\n  <tbody>\n    <tr>\n      <th>SHOP.TO</th>\n      <td>2.315272</td>\n      <td>0.234617</td>\n    </tr>\n    <tr>\n      <th>PYPL</th>\n      <td>1.349026</td>\n      <td>0.160883</td>\n    </tr>\n    <tr>\n      <th>AXP</th>\n      <td>1.766467</td>\n      <td>0.154310</td>\n    </tr>\n    <tr>\n      <th>BAC</th>\n      <td>1.535396</td>\n      <td>0.151914</td>\n    </tr>\n    <tr>\n      <th>CAT</th>\n      <td>1.931686</td>\n      <td>0.135296</td>\n    </tr>\n    <tr>\n      <th>AMZN</th>\n      <td>1.997075</td>\n      <td>0.120563</td>\n    </tr>\n    <tr>\n      <th>USB</th>\n      <td>1.550365</td>\n      <td>0.116997</td>\n    </tr>\n    <tr>\n      <th>C</th>\n      <td>1.887325</td>\n      <td>0.115077</td>\n    </tr>\n    <tr>\n      <th>ACN</th>\n      <td>1.084696</td>\n      <td>0.072816</td>\n    </tr>\n    <tr>\n      <th>BB.TO</th>\n      <td>2.117436</td>\n      <td>0.057162</td>\n    </tr>\n    <tr>\n      <th>AIG</th>\n      <td>1.176270</td>\n      <td>0.012892</td>\n    </tr>\n    <tr>\n      <th>TXN</th>\n      <td>1.493181</td>\n      <td>-0.001034</td>\n    </tr>\n  </tbody>\n</table>\n</div>"
     },
     "metadata": {},
     "execution_count": 12
    }
   ],
   "source": [
    "def calculate_sharpe_ratio(ticker, risk_free_rate):\n",
    "    stock_data = yf.Ticker(ticker).history(start=start_date, end=end_date)['Close']\n",
    "    time.sleep(0.3)\n",
    "    stock_returns = stock_data.pct_change()\n",
    "    average_return = stock_returns.mean()\n",
    "    std_deviation = stock_returns.std()\n",
    "    sharpe_ratio = (average_return - risk_free_rate) / std_deviation\n",
    "    return sharpe_ratio\n",
    "\n",
    "\n",
    "sharpe_ratios = {}\n",
    "for ticker in eligible_stocks.index:\n",
    "    sharpe_ratios[ticker] = calculate_sharpe_ratio(ticker, 0)\n",
    "\n",
    "\n",
    "for ticker, sharpe_ratio in sharpe_ratios.items():\n",
    "    eligible_stocks.loc[ticker, \"Sharpe Ratio\"] = sharpe_ratio\n",
    "\n",
    "eligible_stocks = eligible_stocks.sort_values('Sharpe Ratio', ascending=False)\n",
    "\n",
    "if (len(eligible_stocks[eligible_stocks['Sharpe Ratio'] > 0]) < 12):\n",
    "    eligible_stocks = eligible_stocks.iloc[:12]\n",
    "else:\n",
    "    lowSharpe = eligible_stocks[eligible_stocks['Sharpe Ratio'] <= 0].index\n",
    "    eligible_stocks.drop(lowSharpe, inplace=True)\n",
    "\n",
    "eligible_stocks"
   ]
  },
  {
   "cell_type": "code",
   "execution_count": 13,
   "metadata": {},
   "outputs": [
    {
     "output_type": "execute_result",
     "data": {
      "text/plain": [
       "             Beta  Sharpe Ratio  Projected Returns\n",
       "Ticker                                            \n",
       "SHOP.TO  2.315272      0.234617          24.829635\n",
       "AXP      1.766467      0.154310          12.984568\n",
       "AMZN     1.997075      0.120563           4.156779\n",
       "C        1.887325      0.115077           3.772301\n",
       "PYPL     1.349026      0.160883           3.520474\n",
       "BAC      1.535396      0.151914           3.161396\n",
       "USB      1.550365      0.116997           2.728324\n",
       "ACN      1.084696      0.072816           2.565507\n",
       "CAT      1.931686      0.135296           1.788562\n",
       "BB.TO    2.117436      0.057162          -0.056707\n",
       "AIG      1.176270      0.012892          -0.071484\n",
       "TXN      1.493181     -0.001034          -5.617897"
      ],
      "text/html": "<div>\n<style scoped>\n    .dataframe tbody tr th:only-of-type {\n        vertical-align: middle;\n    }\n\n    .dataframe tbody tr th {\n        vertical-align: top;\n    }\n\n    .dataframe thead th {\n        text-align: right;\n    }\n</style>\n<table border=\"1\" class=\"dataframe\">\n  <thead>\n    <tr style=\"text-align: right;\">\n      <th></th>\n      <th>Beta</th>\n      <th>Sharpe Ratio</th>\n      <th>Projected Returns</th>\n    </tr>\n    <tr>\n      <th>Ticker</th>\n      <th></th>\n      <th></th>\n      <th></th>\n    </tr>\n  </thead>\n  <tbody>\n    <tr>\n      <th>SHOP.TO</th>\n      <td>2.315272</td>\n      <td>0.234617</td>\n      <td>24.829635</td>\n    </tr>\n    <tr>\n      <th>AXP</th>\n      <td>1.766467</td>\n      <td>0.154310</td>\n      <td>12.984568</td>\n    </tr>\n    <tr>\n      <th>AMZN</th>\n      <td>1.997075</td>\n      <td>0.120563</td>\n      <td>4.156779</td>\n    </tr>\n    <tr>\n      <th>C</th>\n      <td>1.887325</td>\n      <td>0.115077</td>\n      <td>3.772301</td>\n    </tr>\n    <tr>\n      <th>PYPL</th>\n      <td>1.349026</td>\n      <td>0.160883</td>\n      <td>3.520474</td>\n    </tr>\n    <tr>\n      <th>BAC</th>\n      <td>1.535396</td>\n      <td>0.151914</td>\n      <td>3.161396</td>\n    </tr>\n    <tr>\n      <th>USB</th>\n      <td>1.550365</td>\n      <td>0.116997</td>\n      <td>2.728324</td>\n    </tr>\n    <tr>\n      <th>ACN</th>\n      <td>1.084696</td>\n      <td>0.072816</td>\n      <td>2.565507</td>\n    </tr>\n    <tr>\n      <th>CAT</th>\n      <td>1.931686</td>\n      <td>0.135296</td>\n      <td>1.788562</td>\n    </tr>\n    <tr>\n      <th>BB.TO</th>\n      <td>2.117436</td>\n      <td>0.057162</td>\n      <td>-0.056707</td>\n    </tr>\n    <tr>\n      <th>AIG</th>\n      <td>1.176270</td>\n      <td>0.012892</td>\n      <td>-0.071484</td>\n    </tr>\n    <tr>\n      <th>TXN</th>\n      <td>1.493181</td>\n      <td>-0.001034</td>\n      <td>-5.617897</td>\n    </tr>\n  </tbody>\n</table>\n</div>"
     },
     "metadata": {},
     "execution_count": 13
    }
   ],
   "source": [
    "for tckr in eligible_stocks.index:\n",
    "    try:\n",
    "        ticker = yf.Ticker(tckr)\n",
    "        ticker_hist = ticker.history(start=start_date, end=end_date)\n",
    "        time.sleep(0.3)\n",
    "        ticker_hist['EMA Short'] = ticker_hist['Close'].ewm(span=2, adjust=True, min_periods=5).mean()\n",
    "        ticker_hist['EMA Long'] = ticker_hist['Close'].ewm(span=50, adjust=True, min_periods=5).mean()\n",
    "        if ticker_hist.empty:\n",
    "            eligible_stocks.loc[tckr, 'Projected Returns'] = -10000\n",
    "        eligible_stocks.loc[tckr, 'Projected Returns'] = ticker_hist['EMA Short'].iloc[len(ticker_hist)-1] - ticker_hist['EMA Long'].iloc[len(ticker_hist)-1]\n",
    "    except:\n",
    "        pass\n",
    "\n",
    "eligible_stocks = eligible_stocks.sort_values('Projected Returns', ascending=False)\n",
    "\n",
    "if (len(eligible_stocks[eligible_stocks['Projected Returns'] > -2]) < 12):\n",
    "    eligible_stocks = eligible_stocks.iloc[:12]\n",
    "elif (len(eligible_stocks[eligible_stocks['Projected Returns'] > -2]) > 24):\n",
    "    eligible_stocks = eligible_stocks.iloc[:24]\n",
    "else:\n",
    "    lowReturns = eligible_stocks[eligible_stocks['Projected Returns'] <= -2].index\n",
    "    eligible_stocks.drop(lowReturns, inplace=True)\n",
    "\n",
    "\n",
    "eligible_stocks.dropna(axis=0, inplace=True)\n",
    "eligible_stocks"
   ]
  },
  {
   "cell_type": "code",
   "execution_count": 14,
   "metadata": {},
   "outputs": [
    {
     "output_type": "execute_result",
     "data": {
      "text/plain": [
       "{'Technology': 44.238136,\n",
       " 'Healthcare': 24.403255,\n",
       " 'Financial Services': 22.76769,\n",
       " 'Consumer Cyclical': 33.56858,\n",
       " 'Energy': 8.991044,\n",
       " 'Utilities': 28.81114,\n",
       " 'Consumer Defensive': 27.64638,\n",
       " 'Industrials': 18.016068,\n",
       " 'Real Estate': 33.524612,\n",
       " 'Communication Services': 36.664444}"
      ]
     },
     "metadata": {},
     "execution_count": 14
    }
   ],
   "source": [
    "sector_etfs = {\n",
    "    \"Technology\": \"XLK\",\n",
    "    \"Healthcare\": \"XLV\",\n",
    "    \"Financial Services\": \"XLF\",\n",
    "    \"Consumer Cyclical\": \"XLY\",\n",
    "    \"Energy\": \"XLE\",\n",
    "    \"Utilities\": \"XLU\",\n",
    "    \"Consumer Defensive\": \"XLP\",\n",
    "    \"Industrials\": \"XLB\",\n",
    "    \"Real Estate\": \"XLRE\",\n",
    "    \"Communication Services\": \"XLC\"\n",
    "}\n",
    "\n",
    "# Function to get P/E ratio for sector ETFs\n",
    "def get_sector_pe_data(sector_etfs):\n",
    "    sector_pe_data = {}\n",
    "    for sector, etf in sector_etfs.items():\n",
    "        \n",
    "        # Fetch ETF data\n",
    "        sector_etf = yf.Ticker(etf)\n",
    "        info = sector_etf.info\n",
    "        \n",
    "        # Get the P/E ratio of the sector ETF\n",
    "        pe_ratio = info.get('trailingPE', None)\n",
    "        \n",
    "        if pe_ratio:\n",
    "            sector_pe_data[sector] = pe_ratio\n",
    "    \n",
    "    return sector_pe_data\n",
    "\n",
    "# Get sector P/E data for each ETF\n",
    "sector_pe_data = get_sector_pe_data(sector_etfs)\n",
    "\n",
    "sector_pe_data"
   ]
  },
  {
   "cell_type": "code",
   "execution_count": 15,
   "metadata": {},
   "outputs": [
    {
     "output_type": "execute_result",
     "data": {
      "text/plain": [
       "{'SHOP.TO': {'sector': 'Technology', 'PE': 99.206665},\n",
       " 'AXP': {'sector': 'Financial Services', 'PE': 21.575848},\n",
       " 'AMZN': {'sector': 'Consumer Cyclical', 'PE': 42.298508},\n",
       " 'C': {'sector': 'Financial Services', 'PE': 19.643873},\n",
       " 'PYPL': {'sector': 'Financial Services', 'PE': 20.291866},\n",
       " 'BAC': {'sector': 'Financial Services', 'PE': 16.833334},\n",
       " 'USB': {'sector': 'Financial Services', 'PE': 15.812307},\n",
       " 'ACN': {'sector': 'Technology', 'PE': 31.587925},\n",
       " 'CAT': {'sector': 'Industrials', 'PE': 18.078423},\n",
       " 'BB.TO': {'sector': 'Technology', 'PE': None},\n",
       " 'AIG': {'sector': 'Financial Services', 'PE': 15.105368},\n",
       " 'TXN': {'sector': 'Technology', 'PE': 36.908752}}"
      ]
     },
     "metadata": {},
     "execution_count": 15
    }
   ],
   "source": [
    "def get_stock_pe(tickers):\n",
    "    stock_data = {}\n",
    "    for ticker in tickers:\n",
    "        \n",
    "        stock = yf.Ticker(ticker)\n",
    "        # Get stock info\n",
    "        info = stock.info\n",
    "        sector = info.get('sector', 'N/A')\n",
    "        pe_ratio = info.get('trailingPE', None)  # trailing P/E ratio\n",
    "        pb_ratio = info.get('priceToBook', None)\n",
    "        \n",
    "        # Add data to dictionary\n",
    "        if (sector != 'N/A'): \n",
    "            if pe_ratio:\n",
    "                stock_data[ticker] = {'sector': sector, 'PE': pe_ratio}\n",
    "            else:\n",
    "                stock_data[ticker] = {'sector': sector, 'PE': None}\n",
    "        else:\n",
    "            if pe_ratio:\n",
    "                stock_data[ticker] = {'sector': 'N/A', 'PE': pe_ratio}\n",
    "            else:\n",
    "                stock_data[ticker] = {'sector': 'N/A', 'PE': None}\n",
    "\n",
    "    return stock_data\n",
    "\n",
    "stock_pe = get_stock_pe(eligible_stocks.index)\n",
    "\n",
    "stock_pe"
   ]
  },
  {
   "cell_type": "code",
   "execution_count": 16,
   "metadata": {},
   "outputs": [
    {
     "output_type": "execute_result",
     "data": {
      "text/plain": [
       "             Beta  Sharpe Ratio  Projected Returns  comparisonPE\n",
       "Ticker                                                          \n",
       "SHOP.TO  2.315272      0.234617          24.829635     54.968529\n",
       "AXP      1.766467      0.154310          12.984568     -1.191842\n",
       "AMZN     1.997075      0.120563           4.156779      8.729928\n",
       "C        1.887325      0.115077           3.772301     -3.123817\n",
       "PYPL     1.349026      0.160883           3.520474     -2.475824\n",
       "BAC      1.535396      0.151914           3.161396     -5.934356\n",
       "USB      1.550365      0.116997           2.728324     -6.955383\n",
       "ACN      1.084696      0.072816           2.565507    -12.650211\n",
       "CAT      1.931686      0.135296           1.788562      0.062355\n",
       "BB.TO    2.117436      0.057162          -0.056707     -2.475824\n",
       "AIG      1.176270      0.012892          -0.071484     -7.662322\n",
       "TXN      1.493181     -0.001034          -5.617897     -7.329384"
      ],
      "text/html": "<div>\n<style scoped>\n    .dataframe tbody tr th:only-of-type {\n        vertical-align: middle;\n    }\n\n    .dataframe tbody tr th {\n        vertical-align: top;\n    }\n\n    .dataframe thead th {\n        text-align: right;\n    }\n</style>\n<table border=\"1\" class=\"dataframe\">\n  <thead>\n    <tr style=\"text-align: right;\">\n      <th></th>\n      <th>Beta</th>\n      <th>Sharpe Ratio</th>\n      <th>Projected Returns</th>\n      <th>comparisonPE</th>\n    </tr>\n    <tr>\n      <th>Ticker</th>\n      <th></th>\n      <th></th>\n      <th></th>\n      <th></th>\n    </tr>\n  </thead>\n  <tbody>\n    <tr>\n      <th>SHOP.TO</th>\n      <td>2.315272</td>\n      <td>0.234617</td>\n      <td>24.829635</td>\n      <td>54.968529</td>\n    </tr>\n    <tr>\n      <th>AXP</th>\n      <td>1.766467</td>\n      <td>0.154310</td>\n      <td>12.984568</td>\n      <td>-1.191842</td>\n    </tr>\n    <tr>\n      <th>AMZN</th>\n      <td>1.997075</td>\n      <td>0.120563</td>\n      <td>4.156779</td>\n      <td>8.729928</td>\n    </tr>\n    <tr>\n      <th>C</th>\n      <td>1.887325</td>\n      <td>0.115077</td>\n      <td>3.772301</td>\n      <td>-3.123817</td>\n    </tr>\n    <tr>\n      <th>PYPL</th>\n      <td>1.349026</td>\n      <td>0.160883</td>\n      <td>3.520474</td>\n      <td>-2.475824</td>\n    </tr>\n    <tr>\n      <th>BAC</th>\n      <td>1.535396</td>\n      <td>0.151914</td>\n      <td>3.161396</td>\n      <td>-5.934356</td>\n    </tr>\n    <tr>\n      <th>USB</th>\n      <td>1.550365</td>\n      <td>0.116997</td>\n      <td>2.728324</td>\n      <td>-6.955383</td>\n    </tr>\n    <tr>\n      <th>ACN</th>\n      <td>1.084696</td>\n      <td>0.072816</td>\n      <td>2.565507</td>\n      <td>-12.650211</td>\n    </tr>\n    <tr>\n      <th>CAT</th>\n      <td>1.931686</td>\n      <td>0.135296</td>\n      <td>1.788562</td>\n      <td>0.062355</td>\n    </tr>\n    <tr>\n      <th>BB.TO</th>\n      <td>2.117436</td>\n      <td>0.057162</td>\n      <td>-0.056707</td>\n      <td>-2.475824</td>\n    </tr>\n    <tr>\n      <th>AIG</th>\n      <td>1.176270</td>\n      <td>0.012892</td>\n      <td>-0.071484</td>\n      <td>-7.662322</td>\n    </tr>\n    <tr>\n      <th>TXN</th>\n      <td>1.493181</td>\n      <td>-0.001034</td>\n      <td>-5.617897</td>\n      <td>-7.329384</td>\n    </tr>\n  </tbody>\n</table>\n</div>"
     },
     "metadata": {},
     "execution_count": 16
    }
   ],
   "source": [
    "def compare_pe_to_sector(stock_data, sector_pe_data):\n",
    "    # Print comparison of P/E ratios for each stock\n",
    "\n",
    "    for tckr, data in stock_data.items():\n",
    "        sector = data['sector']\n",
    "        pe = data['PE']\n",
    "        #pb = data['PB']\n",
    "        \n",
    "        if sector != 'N/A' and pe is not None:\n",
    "            pe_sector_avg = sector_pe_data.get(sector, None)\n",
    "            if pe_sector_avg is not None:\n",
    "                eligible_stocks.loc[tckr, \"comparisonPE\"] = pe - pe_sector_avg\n",
    "        else:\n",
    "            eligible_stocks.loc[tckr, \"comparisonPE\"] = eligible_stocks[\"comparisonPE\"].median()\n",
    "\n",
    "compare_pe_to_sector(stock_pe, sector_pe_data)\n",
    "\n",
    "eligible_stocks"
   ]
  },
  {
   "cell_type": "code",
   "execution_count": 17,
   "metadata": {},
   "outputs": [
    {
     "output_type": "execute_result",
     "data": {
      "text/plain": [
       "             Beta  Sharpe Ratio  Projected Returns  comparisonPE  Ranking\n",
       "Ticker                                                                   \n",
       "SHOP.TO  2.315272      0.234617          24.829635     54.968529       48\n",
       "AMZN     1.997075      0.120563           4.156779      8.729928       38\n",
       "AXP      1.766467      0.154310          12.984568     -1.191842       37\n",
       "CAT      1.931686      0.135296           1.788562      0.062355       31\n",
       "PYPL     1.349026      0.160883           3.520474     -2.475824       30\n",
       "C        1.887325      0.115077           3.772301     -3.123817       28\n",
       "BAC      1.535396      0.151914           3.161396     -5.934356       26\n",
       "BB.TO    2.117436      0.057162          -0.056707     -2.475824       24\n",
       "USB      1.550365      0.116997           2.728324     -6.955383       22\n",
       "ACN      1.084696      0.072816           2.565507    -12.650211       11\n",
       "TXN      1.493181     -0.001034          -5.617897     -7.329384        9\n",
       "AIG      1.176270      0.012892          -0.071484     -7.662322        8"
      ],
      "text/html": "<div>\n<style scoped>\n    .dataframe tbody tr th:only-of-type {\n        vertical-align: middle;\n    }\n\n    .dataframe tbody tr th {\n        vertical-align: top;\n    }\n\n    .dataframe thead th {\n        text-align: right;\n    }\n</style>\n<table border=\"1\" class=\"dataframe\">\n  <thead>\n    <tr style=\"text-align: right;\">\n      <th></th>\n      <th>Beta</th>\n      <th>Sharpe Ratio</th>\n      <th>Projected Returns</th>\n      <th>comparisonPE</th>\n      <th>Ranking</th>\n    </tr>\n    <tr>\n      <th>Ticker</th>\n      <th></th>\n      <th></th>\n      <th></th>\n      <th></th>\n      <th></th>\n    </tr>\n  </thead>\n  <tbody>\n    <tr>\n      <th>SHOP.TO</th>\n      <td>2.315272</td>\n      <td>0.234617</td>\n      <td>24.829635</td>\n      <td>54.968529</td>\n      <td>48</td>\n    </tr>\n    <tr>\n      <th>AMZN</th>\n      <td>1.997075</td>\n      <td>0.120563</td>\n      <td>4.156779</td>\n      <td>8.729928</td>\n      <td>38</td>\n    </tr>\n    <tr>\n      <th>AXP</th>\n      <td>1.766467</td>\n      <td>0.154310</td>\n      <td>12.984568</td>\n      <td>-1.191842</td>\n      <td>37</td>\n    </tr>\n    <tr>\n      <th>CAT</th>\n      <td>1.931686</td>\n      <td>0.135296</td>\n      <td>1.788562</td>\n      <td>0.062355</td>\n      <td>31</td>\n    </tr>\n    <tr>\n      <th>PYPL</th>\n      <td>1.349026</td>\n      <td>0.160883</td>\n      <td>3.520474</td>\n      <td>-2.475824</td>\n      <td>30</td>\n    </tr>\n    <tr>\n      <th>C</th>\n      <td>1.887325</td>\n      <td>0.115077</td>\n      <td>3.772301</td>\n      <td>-3.123817</td>\n      <td>28</td>\n    </tr>\n    <tr>\n      <th>BAC</th>\n      <td>1.535396</td>\n      <td>0.151914</td>\n      <td>3.161396</td>\n      <td>-5.934356</td>\n      <td>26</td>\n    </tr>\n    <tr>\n      <th>BB.TO</th>\n      <td>2.117436</td>\n      <td>0.057162</td>\n      <td>-0.056707</td>\n      <td>-2.475824</td>\n      <td>24</td>\n    </tr>\n    <tr>\n      <th>USB</th>\n      <td>1.550365</td>\n      <td>0.116997</td>\n      <td>2.728324</td>\n      <td>-6.955383</td>\n      <td>22</td>\n    </tr>\n    <tr>\n      <th>ACN</th>\n      <td>1.084696</td>\n      <td>0.072816</td>\n      <td>2.565507</td>\n      <td>-12.650211</td>\n      <td>11</td>\n    </tr>\n    <tr>\n      <th>TXN</th>\n      <td>1.493181</td>\n      <td>-0.001034</td>\n      <td>-5.617897</td>\n      <td>-7.329384</td>\n      <td>9</td>\n    </tr>\n    <tr>\n      <th>AIG</th>\n      <td>1.176270</td>\n      <td>0.012892</td>\n      <td>-0.071484</td>\n      <td>-7.662322</td>\n      <td>8</td>\n    </tr>\n  </tbody>\n</table>\n</div>"
     },
     "metadata": {},
     "execution_count": 17
    }
   ],
   "source": [
    "eligible_stocks['Ranking'] = 0\n",
    "    \n",
    "length = len(eligible_stocks.index)\n",
    "eligible_stocks = eligible_stocks.sort_values(\"Beta\", ascending=False)\n",
    "\n",
    "for i in range(length, 0, -1):\n",
    "    eligible_stocks.loc[eligible_stocks.index[length-i], 'Ranking'] += i\n",
    "\n",
    "eligible_stocks = eligible_stocks.sort_values(\"Sharpe Ratio\", ascending=False)\n",
    "\n",
    "for i in range(length, 0, -1):\n",
    "    eligible_stocks.loc[eligible_stocks.index[length-i], 'Ranking'] += i\n",
    "\n",
    "eligible_stocks = eligible_stocks.sort_values(\"Projected Returns\", ascending=False)\n",
    "\n",
    "for i in range(length, 0, -1):\n",
    "    eligible_stocks.loc[eligible_stocks.index[length-i], 'Ranking'] += i\n",
    "\n",
    "eligible_stocks = eligible_stocks.sort_values(\"comparisonPE\", ascending=False)\n",
    "\n",
    "for i in range(length, 0, -1):\n",
    "    eligible_stocks.loc[eligible_stocks.index[length-i], 'Ranking'] += i\n",
    "\n",
    "eligible_stocks = eligible_stocks.sort_values(\"Ranking\", ascending=False)\n",
    "\n",
    "eligible_stocks"
   ]
  },
  {
   "cell_type": "markdown",
   "metadata": {},
   "source": [
    "## Contribution Declaration\n",
    "\n",
    "The following team members made a meaningful contribution to this assignment:\n",
    "\n",
    "Insert Names Here."
   ]
  }
 ],
 "metadata": {
  "kernelspec": {
   "display_name": "Python 3 (ipykernel)",
   "language": "python",
   "name": "python3"
  },
  "language_info": {
   "codemirror_mode": {
    "name": "ipython",
    "version": 3
   },
   "file_extension": ".py",
   "mimetype": "text/x-python",
   "name": "python",
   "nbconvert_exporter": "python",
   "pygments_lexer": "ipython3",
   "version": "3.12.4-final"
  }
 },
 "nbformat": 4,
 "nbformat_minor": 2
}