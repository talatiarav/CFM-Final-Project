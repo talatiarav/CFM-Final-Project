{
 "cells": [
  {
   "cell_type": "code",
   "execution_count": 20,
   "metadata": {},
   "outputs": [],
   "source": [
    "#These are the libraries you can use.  You may add any libraries directy related to threading if this is a direction\n",
    "#you wish to go (this is not from the course, so it's entire‰ly on you if you wish to use threading).  Any\n",
    "#further libraries you wish to use you must email me, james@uwaterloo.ca, for permission.\n",
    "\n",
    "from IPython.display import display, Math, Latex\n",
    "\n",
    "import pandas as pd\n",
    "import numpy as np\n",
    "import numpy_financial as npf\n",
    "import yfinance as yf\n",
    "import matplotlib.pyplot as plt\n",
    "import random\n",
    "from datetime import datetime\n",
    "import time"
   ]
  },
  {
   "cell_type": "markdown",
   "metadata": {},
   "source": [
    "## Group Assignment\n",
    "### Team Number: 04\n",
    "### Team Member Names: Arav Talati, Iris Hu, Nyra Rodrigues\n",
    "### Team Strategy Chosen: Market Beat"
   ]
  },
  {
   "cell_type": "markdown",
   "metadata": {},
   "source": [
    "Disclose any use of AI for this assignment below (detail where and how you used it).  Please see the course outline for acceptable uses of AI.\n"
   ]
  },
  {
   "cell_type": "code",
   "execution_count": 21,
   "metadata": {},
   "outputs": [
    {
     "output_type": "execute_result",
     "data": {
      "text/plain": [
       "['AAPL',\n",
       " 'ABBV',\n",
       " 'ABT',\n",
       " 'ACN',\n",
       " 'AIG',\n",
       " 'AMZN',\n",
       " 'AXP',\n",
       " 'BA',\n",
       " 'BAC',\n",
       " 'BB.TO',\n",
       " 'BIIB',\n",
       " 'BK',\n",
       " 'BLK',\n",
       " 'BMY',\n",
       " 'C',\n",
       " 'CAT',\n",
       " 'CL',\n",
       " 'KO',\n",
       " 'LLY',\n",
       " 'LMT',\n",
       " 'MO',\n",
       " 'MRK',\n",
       " 'PEP',\n",
       " 'PFE',\n",
       " 'PG',\n",
       " 'PM',\n",
       " 'PYPL',\n",
       " 'QCOM',\n",
       " 'RY.TO',\n",
       " 'SHOP.TO',\n",
       " 'T.TO',\n",
       " 'TD.TO',\n",
       " 'TXN',\n",
       " 'UNH',\n",
       " 'UNP',\n",
       " 'UPS',\n",
       " 'USB']"
      ]
     },
     "metadata": {},
     "execution_count": 21
    }
   ],
   "source": [
    "stock_csv = \"Tickers_Example.csv\"\n",
    "\n",
    "# Read the stock symbols from CSV\n",
    "stocks = pd.read_csv(stock_csv, header=None)\n",
    "stocks.columns = ['Column1']\n",
    "\n",
    "start_date = \"2023-10-01\"\n",
    "end_date = \"2024-09-30\"\n",
    "\n",
    "stock_list = []\n",
    "\n",
    "# Loop through each ticker\n",
    "for tckr in stocks[\"Column1\"]:\n",
    "    stock = yf.Ticker(tckr)\n",
    "\n",
    "    # Check if the stock has 'currency' in the info\n",
    "    if \"currency\" in stock.info.keys():\n",
    "        stock_currency = stock.info[\"currency\"]\n",
    "        \n",
    "        # Get the historical data for the ticker with monthly intervals\n",
    "        stock_hist = stock.history(start=start_date, end=end_date, interval=\"1mo\")\n",
    "        time.sleep(0.3)\n",
    "\n",
    "        # Calculate the average volume over the valid months\n",
    "        if not stock_hist.empty:  # If there's data after dropping NaN volumes\n",
    "            stock_volume = stock_hist['Volume'].dropna().mean()\n",
    "\n",
    "            # Check if currency is USD or CAD and if the volume is above 100,000\n",
    "            if (stock_currency == \"USD\" or stock_currency == \"CAD\") and stock_volume > 100000:\n",
    "                stock_list.append(tckr)\n",
    "\n",
    "# Final list of tickers that meet the criteria\n",
    "stock_list\n"
   ]
  },
  {
   "cell_type": "code",
   "execution_count": 22,
   "metadata": {},
   "outputs": [],
   "source": [
    "start_date = \"2024-09-01\"\n",
    "end_date = \"2024-11-01\"\n",
    "\n",
    "MarketIndex1 = \"^GSPTSE\"  # TSX 60 #confirm ticker\n",
    "MarketIndex2 = \"^GSPC\"  # S&P 500\n",
    "\n",
    "\n",
    "market_hist1 = yf.Ticker(MarketIndex1).history(start=start_date, end=end_date)['Close']\n",
    "market_hist2 = yf.Ticker(MarketIndex2).history(start=start_date, end=end_date)['Close']\n",
    "\n",
    "market_hist1[\"Returns\"] = market_hist1.pct_change() * 100\n",
    "market_hist2[\"Returns\"] = market_hist2.pct_change() * 100\n",
    "\n",
    "market_avg_returns = (market_hist1[\"Returns\"] + market_hist2[\"Returns\"]) / 2\n",
    "\n",
    "market_var = market_avg_returns.var()\n",
    "\n",
    "# get_stock_beta returns the beta of the ticker inputted\n",
    "def beta_val(stock_returns):\n",
    "    df = pd.DataFrame({\"Market Returns\": market_avg_returns, \"Stock Returns\": stock_returns}).dropna()\n",
    "    covariance = df.cov().iloc[0, 1]\n",
    "    return covariance / market_var\n",
    "\n",
    "\n",
    "#betas_list takes a list of tickers and outputs a list of all the betas of every ticker in the list\n",
    "def betas_list(ticker_list):\n",
    "    betas = {}\n",
    "    for ticker in ticker_list:\n",
    "        stock_hist = yf.Ticker(ticker).history(start=start_date, end=end_date)['Close']\n",
    "        time.sleep(0.3)\n",
    "        ticker_returns = stock_hist.pct_change()*100 \n",
    "        betas[ticker] = beta_val(ticker_returns)\n",
    "    return betas\n",
    "\n",
    "\n",
    "all_betas = betas_list(stock_list)"
   ]
  },
  {
   "cell_type": "code",
   "execution_count": 23,
   "metadata": {},
   "outputs": [],
   "source": [
    "beta_dict = betas_list(all_betas.keys())  #change based on taken\n",
    "beta_df = pd.DataFrame.from_dict(beta_dict, orient='index')\n",
    "beta_df.columns = ['Beta']\n",
    "beta_df.index.name = 'Ticker'"
   ]
  },
  {
   "cell_type": "code",
   "execution_count": 44,
   "metadata": {},
   "outputs": [
    {
     "output_type": "execute_result",
     "data": {
      "text/plain": [
       "             Beta\n",
       "Ticker           \n",
       "AAPL     1.111248\n",
       "TXN      1.156412\n",
       "BIIB     1.189811\n",
       "USB      1.267148\n",
       "LLY      1.289998\n",
       "BAC      1.327827\n",
       "AIG      1.410103\n",
       "CAT      1.552065\n",
       "AXP      1.606705\n",
       "PYPL     1.674955\n",
       "C        1.679481\n",
       "AMZN     1.891268\n",
       "QCOM     1.999432\n",
       "SHOP.TO  2.497989\n",
       "BB.TO    2.694406"
      ],
      "text/html": "<div>\n<style scoped>\n    .dataframe tbody tr th:only-of-type {\n        vertical-align: middle;\n    }\n\n    .dataframe tbody tr th {\n        vertical-align: top;\n    }\n\n    .dataframe thead th {\n        text-align: right;\n    }\n</style>\n<table border=\"1\" class=\"dataframe\">\n  <thead>\n    <tr style=\"text-align: right;\">\n      <th></th>\n      <th>Beta</th>\n    </tr>\n    <tr>\n      <th>Ticker</th>\n      <th></th>\n    </tr>\n  </thead>\n  <tbody>\n    <tr>\n      <th>AAPL</th>\n      <td>1.111248</td>\n    </tr>\n    <tr>\n      <th>TXN</th>\n      <td>1.156412</td>\n    </tr>\n    <tr>\n      <th>BIIB</th>\n      <td>1.189811</td>\n    </tr>\n    <tr>\n      <th>USB</th>\n      <td>1.267148</td>\n    </tr>\n    <tr>\n      <th>LLY</th>\n      <td>1.289998</td>\n    </tr>\n    <tr>\n      <th>BAC</th>\n      <td>1.327827</td>\n    </tr>\n    <tr>\n      <th>AIG</th>\n      <td>1.410103</td>\n    </tr>\n    <tr>\n      <th>CAT</th>\n      <td>1.552065</td>\n    </tr>\n    <tr>\n      <th>AXP</th>\n      <td>1.606705</td>\n    </tr>\n    <tr>\n      <th>PYPL</th>\n      <td>1.674955</td>\n    </tr>\n    <tr>\n      <th>C</th>\n      <td>1.679481</td>\n    </tr>\n    <tr>\n      <th>AMZN</th>\n      <td>1.891268</td>\n    </tr>\n    <tr>\n      <th>QCOM</th>\n      <td>1.999432</td>\n    </tr>\n    <tr>\n      <th>SHOP.TO</th>\n      <td>2.497989</td>\n    </tr>\n    <tr>\n      <th>BB.TO</th>\n      <td>2.694406</td>\n    </tr>\n  </tbody>\n</table>\n</div>"
     },
     "metadata": {},
     "execution_count": 44
    }
   ],
   "source": [
    "#Sorts the dictionary from lowest beta to highest beta\n",
    "sorted_beta_df = beta_df.sort_values('Beta').copy()\n",
    "\n",
    "#Creates a dataframe with the 10 highest betas\n",
    "#eligible_stocks = sorted_beta_df.loc[sorted_beta_df['Beta'] >= 1]\n",
    "\n",
    "if (len(sorted_beta_df.loc[sorted_beta_df['Beta'] >= 1].index) < 12):\n",
    "    eligible_stocks = sorted_beta_df.iloc[-15:]\n",
    "elif ((len(sorted_beta_df.loc[sorted_beta_df['Beta'] >= 1].index) > 30)): \n",
    "    eligible_stocks = sorted_beta_df.iloc[-30:] \n",
    "else:\n",
    "    eligible_stocks = sorted_beta_df.loc[sorted_beta_df['Beta'] >= 1]\n",
    "    \n",
    "eligible_stocks"
   ]
  },
  {
   "cell_type": "code",
   "execution_count": 45,
   "metadata": {},
   "outputs": [
    {
     "output_type": "execute_result",
     "data": {
      "text/plain": [
       "             Beta  Sharpe Ratio\n",
       "Ticker                         \n",
       "SHOP.TO  2.497989      0.164786\n",
       "CAT      1.552065      0.163863\n",
       "PYPL     1.674955      0.128491\n",
       "AXP      1.606705      0.103976\n",
       "AMZN     1.891268      0.092459\n",
       "USB      1.267148      0.084439\n",
       "BAC      1.327827      0.064708\n",
       "C        1.679481      0.062344\n",
       "BB.TO    2.694406      0.038978\n",
       "AAPL     1.111248      0.031480\n",
       "TXN      1.156412      0.026437\n",
       "AIG      1.410103      0.012834\n",
       "QCOM     1.999432      0.012662"
      ],
      "text/html": "<div>\n<style scoped>\n    .dataframe tbody tr th:only-of-type {\n        vertical-align: middle;\n    }\n\n    .dataframe tbody tr th {\n        vertical-align: top;\n    }\n\n    .dataframe thead th {\n        text-align: right;\n    }\n</style>\n<table border=\"1\" class=\"dataframe\">\n  <thead>\n    <tr style=\"text-align: right;\">\n      <th></th>\n      <th>Beta</th>\n      <th>Sharpe Ratio</th>\n    </tr>\n    <tr>\n      <th>Ticker</th>\n      <th></th>\n      <th></th>\n    </tr>\n  </thead>\n  <tbody>\n    <tr>\n      <th>SHOP.TO</th>\n      <td>2.497989</td>\n      <td>0.164786</td>\n    </tr>\n    <tr>\n      <th>CAT</th>\n      <td>1.552065</td>\n      <td>0.163863</td>\n    </tr>\n    <tr>\n      <th>PYPL</th>\n      <td>1.674955</td>\n      <td>0.128491</td>\n    </tr>\n    <tr>\n      <th>AXP</th>\n      <td>1.606705</td>\n      <td>0.103976</td>\n    </tr>\n    <tr>\n      <th>AMZN</th>\n      <td>1.891268</td>\n      <td>0.092459</td>\n    </tr>\n    <tr>\n      <th>USB</th>\n      <td>1.267148</td>\n      <td>0.084439</td>\n    </tr>\n    <tr>\n      <th>BAC</th>\n      <td>1.327827</td>\n      <td>0.064708</td>\n    </tr>\n    <tr>\n      <th>C</th>\n      <td>1.679481</td>\n      <td>0.062344</td>\n    </tr>\n    <tr>\n      <th>BB.TO</th>\n      <td>2.694406</td>\n      <td>0.038978</td>\n    </tr>\n    <tr>\n      <th>AAPL</th>\n      <td>1.111248</td>\n      <td>0.031480</td>\n    </tr>\n    <tr>\n      <th>TXN</th>\n      <td>1.156412</td>\n      <td>0.026437</td>\n    </tr>\n    <tr>\n      <th>AIG</th>\n      <td>1.410103</td>\n      <td>0.012834</td>\n    </tr>\n    <tr>\n      <th>QCOM</th>\n      <td>1.999432</td>\n      <td>0.012662</td>\n    </tr>\n  </tbody>\n</table>\n</div>"
     },
     "metadata": {},
     "execution_count": 45
    }
   ],
   "source": [
    "def calculate_sharpe_ratio(ticker, risk_free_rate):\n",
    "    stock_data = yf.Ticker(ticker).history(start=\"2024-09-01\", end=\"2024-11-01\")['Close']\n",
    "    time.sleep(0.3)\n",
    "    stock_returns = stock_data.pct_change()\n",
    "    average_return = stock_returns.mean()\n",
    "    std_deviation = stock_returns.std()\n",
    "    sharpe_ratio = (average_return - risk_free_rate) / std_deviation\n",
    "    return sharpe_ratio\n",
    "\n",
    "\n",
    "sharpe_ratios = {}\n",
    "for ticker in eligible_stocks.index:\n",
    "    sharpe_ratios[ticker] = calculate_sharpe_ratio(ticker, 0)\n",
    "\n",
    "\n",
    "for ticker, sharpe_ratio in sharpe_ratios.items():\n",
    "    eligible_stocks.loc[ticker, \"Sharpe Ratio\"] = sharpe_ratio\n",
    "\n",
    "eligible_stocks = eligible_stocks.sort_values('Sharpe Ratio', ascending=False)\n",
    "\n",
    "if (len(eligible_stocks[eligible_stocks['Sharpe Ratio'] > 0]) < 12):\n",
    "    eligible_stocks = eligible_stocks.iloc[:12]\n",
    "else:\n",
    "    lowSharpe = eligible_stocks[eligible_stocks['Sharpe Ratio'] <= 0].index\n",
    "    eligible_stocks.drop(lowSharpe, inplace=True)\n",
    "\n",
    "eligible_stocks"
   ]
  },
  {
   "cell_type": "code",
   "execution_count": 46,
   "metadata": {},
   "outputs": [
    {
     "output_type": "execute_result",
     "data": {
      "text/plain": [
       "             Beta  Sharpe Ratio  Projected Returns\n",
       "Ticker                                            \n",
       "TXN      1.156412      0.026437           2.587035\n",
       "USB      1.267148      0.084439           1.721775\n",
       "C        1.679481      0.062344           1.572351\n",
       "AMZN     1.891268      0.092459           1.218667\n",
       "AXP      1.606705      0.103976           1.217195\n",
       "BAC      1.327827      0.064708           0.921243\n",
       "SHOP.TO  2.497989      0.164786           0.873995\n",
       "PYPL     1.674955      0.128491           0.565620\n",
       "AIG      1.410103      0.012834           0.526661\n",
       "BB.TO    2.694406      0.038978          -0.150688\n",
       "AAPL     1.111248      0.031480          -1.241327\n",
       "CAT      1.552065      0.163863          -3.177632"
      ],
      "text/html": "<div>\n<style scoped>\n    .dataframe tbody tr th:only-of-type {\n        vertical-align: middle;\n    }\n\n    .dataframe tbody tr th {\n        vertical-align: top;\n    }\n\n    .dataframe thead th {\n        text-align: right;\n    }\n</style>\n<table border=\"1\" class=\"dataframe\">\n  <thead>\n    <tr style=\"text-align: right;\">\n      <th></th>\n      <th>Beta</th>\n      <th>Sharpe Ratio</th>\n      <th>Projected Returns</th>\n    </tr>\n    <tr>\n      <th>Ticker</th>\n      <th></th>\n      <th></th>\n      <th></th>\n    </tr>\n  </thead>\n  <tbody>\n    <tr>\n      <th>TXN</th>\n      <td>1.156412</td>\n      <td>0.026437</td>\n      <td>2.587035</td>\n    </tr>\n    <tr>\n      <th>USB</th>\n      <td>1.267148</td>\n      <td>0.084439</td>\n      <td>1.721775</td>\n    </tr>\n    <tr>\n      <th>C</th>\n      <td>1.679481</td>\n      <td>0.062344</td>\n      <td>1.572351</td>\n    </tr>\n    <tr>\n      <th>AMZN</th>\n      <td>1.891268</td>\n      <td>0.092459</td>\n      <td>1.218667</td>\n    </tr>\n    <tr>\n      <th>AXP</th>\n      <td>1.606705</td>\n      <td>0.103976</td>\n      <td>1.217195</td>\n    </tr>\n    <tr>\n      <th>BAC</th>\n      <td>1.327827</td>\n      <td>0.064708</td>\n      <td>0.921243</td>\n    </tr>\n    <tr>\n      <th>SHOP.TO</th>\n      <td>2.497989</td>\n      <td>0.164786</td>\n      <td>0.873995</td>\n    </tr>\n    <tr>\n      <th>PYPL</th>\n      <td>1.674955</td>\n      <td>0.128491</td>\n      <td>0.565620</td>\n    </tr>\n    <tr>\n      <th>AIG</th>\n      <td>1.410103</td>\n      <td>0.012834</td>\n      <td>0.526661</td>\n    </tr>\n    <tr>\n      <th>BB.TO</th>\n      <td>2.694406</td>\n      <td>0.038978</td>\n      <td>-0.150688</td>\n    </tr>\n    <tr>\n      <th>AAPL</th>\n      <td>1.111248</td>\n      <td>0.031480</td>\n      <td>-1.241327</td>\n    </tr>\n    <tr>\n      <th>CAT</th>\n      <td>1.552065</td>\n      <td>0.163863</td>\n      <td>-3.177632</td>\n    </tr>\n  </tbody>\n</table>\n</div>"
     },
     "metadata": {},
     "execution_count": 46
    }
   ],
   "source": [
    "#eligible_stocks[\"Projected Returns\"] = 0\n",
    "for tckr in eligible_stocks.index:\n",
    "    try:\n",
    "        ticker = yf.Ticker(tckr)\n",
    "        ticker_hist = ticker.history(start=start_date, end=end_date)\n",
    "        time.sleep(0.3)\n",
    "        ticker_hist['EMA Short'] = ticker_hist['Close'].ewm(span=2, adjust=True, min_periods=5).mean()\n",
    "        ticker_hist['EMA Long'] = ticker_hist['Close'].ewm(span=50, adjust=True, min_periods=5).mean()\n",
    "        if ticker_hist.empty:\n",
    "            eligible_stocks.loc[tckr, 'Projected Returns'] = -10000\n",
    "        eligible_stocks.loc[tckr, 'Projected Returns'] = ticker_hist['EMA Short'].iloc[len(ticker_hist)-1] - ticker_hist['EMA Long'].iloc[len(ticker_hist)-1]\n",
    "    except:\n",
    "        pass\n",
    "\n",
    "eligible_stocks = eligible_stocks.sort_values('Projected Returns', ascending=False)\n",
    "\n",
    "if (len(eligible_stocks[eligible_stocks['Projected Returns'] > -2]) < 12):\n",
    "    eligible_stocks = eligible_stocks.iloc[:12]\n",
    "elif (len(eligible_stocks[eligible_stocks['Projected Returns'] > -2]) > 24):\n",
    "    eligible_stocks = eligible_stocks.iloc[:24]\n",
    "else:\n",
    "    lowReturns = eligible_stocks[eligible_stocks['Projected Returns'] <= -2].index\n",
    "    eligible_stocks.drop(lowReturns, inplace=True)\n",
    "\n",
    "\n",
    "eligible_stocks.dropna(axis=0, inplace=True)\n",
    "eligible_stocks"
   ]
  },
  {
   "cell_type": "code",
   "execution_count": 47,
   "metadata": {},
   "outputs": [
    {
     "output_type": "execute_result",
     "data": {
      "text/plain": [
       "{'Technology': 44.232452,\n",
       " 'Healthcare': 24.40495,\n",
       " 'Financial Services': 22.77223,\n",
       " 'Consumer Cyclical': 33.559216,\n",
       " 'Energy': 8.992434,\n",
       " 'Utilities': 28.81466,\n",
       " 'Consumer Defensive': 27.642971,\n",
       " 'Industrials': 18.014141,\n",
       " 'Real Estate': 33.516953,\n",
       " 'Communication Services': 36.65689}"
      ]
     },
     "metadata": {},
     "execution_count": 47
    }
   ],
   "source": [
    "sector_etfs = {\n",
    "    \"Technology\": \"XLK\",\n",
    "    \"Healthcare\": \"XLV\",\n",
    "    \"Financial Services\": \"XLF\",\n",
    "    \"Consumer Cyclical\": \"XLY\",\n",
    "    \"Energy\": \"XLE\",\n",
    "    \"Utilities\": \"XLU\",\n",
    "    \"Consumer Defensive\": \"XLP\",\n",
    "    \"Industrials\": \"XLB\",\n",
    "    \"Real Estate\": \"XLRE\",\n",
    "    \"Communication Services\": \"XLC\"\n",
    "}\n",
    "\n",
    "# Function to get P/E ratio for sector ETFs\n",
    "def get_sector_pe_data(sector_etfs):\n",
    "    sector_pe_data = {}\n",
    "    for sector, etf in sector_etfs.items():\n",
    "        \n",
    "        # Fetch ETF data\n",
    "        sector_etf = yf.Ticker(etf)\n",
    "        info = sector_etf.info\n",
    "        \n",
    "        # Get the P/E ratio of the sector ETF\n",
    "        pe_ratio = info.get('trailingPE', None)\n",
    "        \n",
    "        if pe_ratio:\n",
    "            sector_pe_data[sector] = pe_ratio\n",
    "    \n",
    "    return sector_pe_data\n",
    "\n",
    "# Get sector P/E data for each ETF\n",
    "sector_pe_data = get_sector_pe_data(sector_etfs)\n",
    "\n",
    "sector_pe_data"
   ]
  },
  {
   "cell_type": "code",
   "execution_count": 48,
   "metadata": {},
   "outputs": [
    {
     "output_type": "execute_result",
     "data": {
      "text/plain": [
       "{'TXN': {'sector': 'Technology', 'PE': 36.908752},\n",
       " 'USB': {'sector': 'Financial Services', 'PE': 15.810769},\n",
       " 'C': {'sector': 'Financial Services', 'PE': 19.641026},\n",
       " 'AMZN': {'sector': 'Consumer Cyclical', 'PE': 42.298508},\n",
       " 'AXP': {'sector': 'Financial Services', 'PE': 21.570692},\n",
       " 'BAC': {'sector': 'Financial Services', 'PE': 16.82971},\n",
       " 'SHOP.TO': {'sector': 'Technology', 'PE': 99.206665},\n",
       " 'PYPL': {'sector': 'Financial Services', 'PE': 20.291866},\n",
       " 'AIG': {'sector': 'Financial Services', 'PE': 15.106361},\n",
       " 'BB.TO': {'sector': 'Technology', 'PE': None},\n",
       " 'AAPL': {'sector': 'Technology', 'PE': 37.523808},\n",
       " 'CAT': {'sector': 'Industrials', 'PE': 18.077496}}"
      ]
     },
     "metadata": {},
     "execution_count": 48
    }
   ],
   "source": [
    "def get_stock_pe(tickers):\n",
    "    stock_data = {}\n",
    "    for ticker in tickers:\n",
    "        \n",
    "        stock = yf.Ticker(ticker)\n",
    "        # Get stock info\n",
    "        info = stock.info\n",
    "        sector = info.get('sector', 'N/A')\n",
    "        pe_ratio = info.get('trailingPE', None)  # trailing P/E ratio\n",
    "        pb_ratio = info.get('priceToBook', None)\n",
    "        \n",
    "        # Add data to dictionary\n",
    "        if (sector != 'N/A'): \n",
    "            if pe_ratio:\n",
    "                stock_data[ticker] = {'sector': sector, 'PE': pe_ratio}\n",
    "            else:\n",
    "                stock_data[ticker] = {'sector': sector, 'PE': None}\n",
    "        else:\n",
    "            if pe_ratio:\n",
    "                stock_data[ticker] = {'sector': 'N/A', 'PE': pe_ratio}\n",
    "            else:\n",
    "                stock_data[ticker] = {'sector': 'N/A', 'PE': None}\n",
    "\n",
    "    return stock_data\n",
    "\n",
    "stock_pe = get_stock_pe(eligible_stocks.index)\n",
    "\n",
    "stock_pe"
   ]
  },
  {
   "cell_type": "code",
   "execution_count": 49,
   "metadata": {},
   "outputs": [
    {
     "output_type": "execute_result",
     "data": {
      "text/plain": [
       "             Beta  Sharpe Ratio  Projected Returns  comparisonPE\n",
       "Ticker                                                          \n",
       "TXN      1.156412      0.026437           2.587035     -7.323700\n",
       "USB      1.267148      0.084439           1.721775     -6.961461\n",
       "C        1.679481      0.062344           1.572351     -3.131204\n",
       "AMZN     1.891268      0.092459           1.218667      8.739292\n",
       "AXP      1.606705      0.103976           1.217195     -1.201538\n",
       "BAC      1.327827      0.064708           0.921243     -5.942520\n",
       "SHOP.TO  2.497989      0.164786           0.873995     54.974213\n",
       "PYPL     1.674955      0.128491           0.565620     -2.480364\n",
       "AIG      1.410103      0.012834           0.526661     -7.665869\n",
       "BB.TO    2.694406      0.038978          -0.150688      0.000000\n",
       "AAPL     1.111248      0.031480          -1.241327     -6.708644\n",
       "CAT      1.552065      0.163863          -3.177632      0.063355"
      ],
      "text/html": "<div>\n<style scoped>\n    .dataframe tbody tr th:only-of-type {\n        vertical-align: middle;\n    }\n\n    .dataframe tbody tr th {\n        vertical-align: top;\n    }\n\n    .dataframe thead th {\n        text-align: right;\n    }\n</style>\n<table border=\"1\" class=\"dataframe\">\n  <thead>\n    <tr style=\"text-align: right;\">\n      <th></th>\n      <th>Beta</th>\n      <th>Sharpe Ratio</th>\n      <th>Projected Returns</th>\n      <th>comparisonPE</th>\n    </tr>\n    <tr>\n      <th>Ticker</th>\n      <th></th>\n      <th></th>\n      <th></th>\n      <th></th>\n    </tr>\n  </thead>\n  <tbody>\n    <tr>\n      <th>TXN</th>\n      <td>1.156412</td>\n      <td>0.026437</td>\n      <td>2.587035</td>\n      <td>-7.323700</td>\n    </tr>\n    <tr>\n      <th>USB</th>\n      <td>1.267148</td>\n      <td>0.084439</td>\n      <td>1.721775</td>\n      <td>-6.961461</td>\n    </tr>\n    <tr>\n      <th>C</th>\n      <td>1.679481</td>\n      <td>0.062344</td>\n      <td>1.572351</td>\n      <td>-3.131204</td>\n    </tr>\n    <tr>\n      <th>AMZN</th>\n      <td>1.891268</td>\n      <td>0.092459</td>\n      <td>1.218667</td>\n      <td>8.739292</td>\n    </tr>\n    <tr>\n      <th>AXP</th>\n      <td>1.606705</td>\n      <td>0.103976</td>\n      <td>1.217195</td>\n      <td>-1.201538</td>\n    </tr>\n    <tr>\n      <th>BAC</th>\n      <td>1.327827</td>\n      <td>0.064708</td>\n      <td>0.921243</td>\n      <td>-5.942520</td>\n    </tr>\n    <tr>\n      <th>SHOP.TO</th>\n      <td>2.497989</td>\n      <td>0.164786</td>\n      <td>0.873995</td>\n      <td>54.974213</td>\n    </tr>\n    <tr>\n      <th>PYPL</th>\n      <td>1.674955</td>\n      <td>0.128491</td>\n      <td>0.565620</td>\n      <td>-2.480364</td>\n    </tr>\n    <tr>\n      <th>AIG</th>\n      <td>1.410103</td>\n      <td>0.012834</td>\n      <td>0.526661</td>\n      <td>-7.665869</td>\n    </tr>\n    <tr>\n      <th>BB.TO</th>\n      <td>2.694406</td>\n      <td>0.038978</td>\n      <td>-0.150688</td>\n      <td>0.000000</td>\n    </tr>\n    <tr>\n      <th>AAPL</th>\n      <td>1.111248</td>\n      <td>0.031480</td>\n      <td>-1.241327</td>\n      <td>-6.708644</td>\n    </tr>\n    <tr>\n      <th>CAT</th>\n      <td>1.552065</td>\n      <td>0.163863</td>\n      <td>-3.177632</td>\n      <td>0.063355</td>\n    </tr>\n  </tbody>\n</table>\n</div>"
     },
     "metadata": {},
     "execution_count": 49
    }
   ],
   "source": [
    "def compare_pe_to_sector(stock_data, sector_pe_data):\n",
    "    # Print comparison of P/E ratios for each stock\n",
    "\n",
    "    for tckr, data in stock_data.items():\n",
    "        sector = data['sector']\n",
    "        pe = data['PE']\n",
    "        #pb = data['PB']\n",
    "        \n",
    "        if sector != 'N/A' and pe is not None:\n",
    "            pe_sector_avg = sector_pe_data.get(sector, None)\n",
    "            if pe_sector_avg is not None:\n",
    "                eligible_stocks.loc[tckr, \"comparisonPE\"] = pe - pe_sector_avg\n",
    "        else:\n",
    "            eligible_stocks.loc[tckr, \"comparisonPE\"] = 0\n",
    "\n",
    "compare_pe_to_sector(stock_pe, sector_pe_data)\n",
    "\n",
    "eligible_stocks"
   ]
  },
  {
   "cell_type": "markdown",
   "metadata": {},
   "source": [
    "## Contribution Declaration\n",
    "\n",
    "The following team members made a meaningful contribution to this assignment:\n",
    "\n",
    "Insert Names Here."
   ]
  }
 ],
 "metadata": {
  "kernelspec": {
   "display_name": "Python 3 (ipykernel)",
   "language": "python",
   "name": "python3"
  },
  "language_info": {
   "codemirror_mode": {
    "name": "ipython",
    "version": 3
   },
   "file_extension": ".py",
   "mimetype": "text/x-python",
   "name": "python",
   "nbconvert_exporter": "python",
   "pygments_lexer": "ipython3",
   "version": "3.12.4-final"
  }
 },
 "nbformat": 4,
 "nbformat_minor": 2
}