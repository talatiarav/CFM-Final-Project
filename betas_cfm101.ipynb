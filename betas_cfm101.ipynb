{
 "cells": [
  {
   "cell_type": "code",
   "execution_count": 1,
   "metadata": {},
   "outputs": [],
   "source": [
    "#These are the libraries you can use.  You may add any libraries directy related to threading if this is a direction\n",
    "#you wish to go (this is not from the course, so it's entirely on you if you wish to use threading).  Any\n",
    "#further libraries you wish to use you must email me, james@uwaterloo.ca, for permission.\n",
    "\n",
    "from IPython.display import display, Math, Latex\n",
    "\n",
    "import pandas as pd\n",
    "import numpy as np\n",
    "import numpy_financial as npf\n",
    "import yfinance as yf\n",
    "import matplotlib.pyplot as plt\n",
    "import random\n",
    "from datetime import datetime"
   ]
  },
  {
   "cell_type": "code",
   "execution_count": 13,
   "metadata": {},
   "outputs": [
    {
     "data": {
      "text/plain": [
       "' #read_data = pd.read_csv(\\'sample_tickers.csv\\')\\nread_data = [\\'USA.TO\\', \\'ACB.TO\\']\\n\\n#create start and end date based on dynamic data\\nstart_date = \"2024-09-01\"\\nend_date = \"2024-11-01\"\\ndjia = yf.Ticker(\\'DJIA\\') #use any other market index as well\\nmarket_hist = djia.history(start=start_date, end=end_date)\\nmarket_pd = market_hist[\\'Close\\']\\n\\nbeta_df = pd.DataFrame()\\nexpected_market = market_pd.mean()\\nfor i in read_data:\\n    ticker = yf.Ticker(i)\\n    ticker_hist = ticker.history(start=start_date, end=end_date)\\n    ticker_pd = ticker_hist[\\'Close\\']\\n    expected_asset = ticker_pd.mean()\\n    beta = expected_asset.cov(expected_market) / expected_market.var()\\n    beta_df[i] = beta\\n\\nbeta_df.transpose()\\nbeta_df.columns=[\\'ticker\\', \\'price\\']\\nbeta_df = beta_df.sort_values(beta_df.price, ascending = False)\\nprint(beta_df)\\n\\n\\n#use slicing for lower and upper bound picking '"
      ]
     },
     "execution_count": 13,
     "metadata": {},
     "output_type": "execute_result"
    }
   ],
   "source": [
    "''' #read_data = pd.read_csv('sample_tickers.csv')\n",
    "read_data = ['USA.TO', 'ACB.TO']\n",
    "\n",
    "#create start and end date based on dynamic data\n",
    "start_date = \"2024-09-01\"\n",
    "end_date = \"2024-11-01\"\n",
    "djia = yf.Ticker('DJIA') #use any other market index as well\n",
    "market_hist = djia.history(start=start_date, end=end_date)\n",
    "market_pd = market_hist['Close']\n",
    "\n",
    "beta_df = pd.DataFrame()\n",
    "expected_market = market_pd.mean()\n",
    "for i in read_data:\n",
    "    ticker = yf.Ticker(i)\n",
    "    ticker_hist = ticker.history(start=start_date, end=end_date)\n",
    "    ticker_pd = ticker_hist['Close']\n",
    "    expected_asset = ticker_pd.mean()\n",
    "    beta = expected_asset.cov(expected_market) / expected_market.var()\n",
    "    beta_df[i] = beta\n",
    "\n",
    "beta_df.transpose()\n",
    "beta_df.columns=['ticker', 'price']\n",
    "beta_df = beta_df.sort_values(beta_df.price, ascending = False)\n",
    "print(beta_df)\n",
    "\n",
    "\n",
    "#use slicing for lower and upper bound picking '''"
   ]
  },
  {
   "cell_type": "markdown",
   "metadata": {},
   "source": [
    "\n",
    "Since we have chosen the market beat strategy, we want to maximize our returns. We also want minimum diversification. \n",
    "\n",
    "Beta calculation:\n",
    "Beta value measures a stock's volatility and sensitivity to market movements relative to an index. A Beta greater than 1 means the stock tends to have higher volatility, while a Beta less than 1 indicates that the stock is less volatile than the market. \n",
    "\n",
    "We get a list of the stocks that have the highest beta. This gives us a portfolio that is positively correlated and volatile compared to the market. This also implies that the portfolio has the least market diversification and the highest volume of change. "
   ]
  },
  {
   "cell_type": "code",
   "execution_count": null,
   "metadata": {},
   "outputs": [
    {
     "name": "stdout",
     "output_type": "stream",
     "text": [
      "Betas: {'AAPL': 1.1112476004934124, 'MSFT': 1.6016277866245967, 'GOOGL': 1.0402340367516663}\n"
     ]
    }
   ],
   "source": [
    "start_date = \"2024-09-01\"\n",
    "end_date = \"2024-11-01\"\n",
    "\n",
    "MarketIndex1 = \"^GSPTSE\"  # TSX 60 #confirm ticker\n",
    "MarketIndex2 = \"^GSPC\"  # S&P 500\n",
    "\n",
    "\n",
    "market_hist1 = yf.Ticker(MarketIndex1).history(start=start_date, end=end_date)['Close']\n",
    "market_hist2 = yf.Ticker(MarketIndex2).history(start=start_date, end=end_date)['Close']\n",
    "\n",
    "market_hist1[\"Returns\"] = market_hist1.pct_change() * 100\n",
    "market_hist2[\"Returns\"] = market_hist2.pct_change() * 100\n",
    "\n",
    "market_avg_returns = (market_hist1[\"Returns\"] + market_hist2[\"Returns\"]) / 2\n",
    "\n",
    "market_var = market_avg_returns.var()\n",
    "\n",
    "# get_stock_beta returns the beta of the ticker inputted\n",
    "def beta_val(stock_returns):\n",
    "    df = pd.DataFrame({\"Market Returns\": market_avg_returns, \"Stock Returns\": stock_returns}).dropna()\n",
    "    covariance = df.cov().iloc[0, 1]\n",
    "    return covariance / market_var\n",
    "\n",
    "\n",
    "#betas_list takes a list of tickers and outputs a list of all the betas of every ticker in the list\n",
    "def betas_list(ticker_list):\n",
    "    betas = {}\n",
    "    for ticker in ticker_list:\n",
    "        stock_hist = yf.Ticker(ticker).history(start=start_date, end=end_date)['Close']\n",
    "        ticker_returns = stock_hist.pct_change()*100 \n",
    "        betas[ticker] = beta_val(ticker_returns)\n",
    "    return betas\n",
    "\n",
    "\n",
    "ticker_list = [\"AAPL\", \"MSFT\", \"GOOGL\"]\n",
    "all_betas = betas_list(ticker_list)\n",
    "\n",
    "print(\"Betas:\", all_betas)"
   ]
  },
  {
   "cell_type": "code",
   "execution_count": 10,
   "metadata": {},
   "outputs": [],
   "source": [
    "#Creates a dataframe with keys being tickers and corresponding to their values, the ticker's beta\n",
    "filtered = [\"AAPL\", \"MSFT\", \"GOOGL\"] #example\n",
    "beta_dict = betas_list(filtered)  #change based on taken\n",
    "beta_df = pd.DataFrame.from_dict(beta_dict, orient='index')\n",
    "beta_df.columns = ['Beta']\n",
    "beta_df.index.name = 'Ticker'"
   ]
  },
  {
   "cell_type": "code",
   "execution_count": 11,
   "metadata": {},
   "outputs": [],
   "source": [
    "#Sorts the dictionary from lowest beta to highest beta\n",
    "sorted_beta_df = beta_df.sort_values('Beta').copy()\n",
    "\n",
    "#Creates a dataframe with the 10 highest betas\n",
    "top_twelve = sorted_beta_df.iloc[-12:]"
   ]
  },
  {
   "cell_type": "markdown",
   "metadata": {},
   "source": [
    "Sharpe Ratio:\n",
    "Sharpe Ratio measures the return of an investment relative to its risk. A higher Sharpe ratio indicates a better risk-adjusted return, meaning the stock or portfolio is delivering more reward for the risk taken. It helps identify stocks that offer the best potential for growth, with minimal unnecessary risk."
   ]
  },
  {
   "cell_type": "code",
   "execution_count": 12,
   "metadata": {},
   "outputs": [
    {
     "name": "stdout",
     "output_type": "stream",
     "text": [
      "Sharpe Ratios:\n",
      "AAPL 0.031480065526698284\n",
      "MSFT -0.00625280357779384\n",
      "GOOGL 0.1609000529527446\n"
     ]
    }
   ],
   "source": [
    "\n",
    "tickers = [\"AAPL\", \"MSFT\", \"GOOGL\"]  # Example list of tickers\n",
    "risk_free_rate = 0  # Example \n",
    "\n",
    "# Function to calculate the Sharpe Ratio\n",
    "def calculate_sharpe_ratio(ticker, risk_free_rate):\n",
    "    stock_data = yf.Ticker(ticker).history(start=start_date, end=end_date)['Close']\n",
    "    stock_returns = stock_data.pct_change()\n",
    "    average_return = stock_returns.mean()\n",
    "    std_deviation = stock_returns.std()\n",
    "    sharpe_ratio = (average_return - risk_free_rate) / std_deviation\n",
    "    return sharpe_ratio\n",
    "\n",
    "\n",
    "sharpe_ratios = {}\n",
    "for ticker in tickers:\n",
    "    sharpe_ratios[ticker] = calculate_sharpe_ratio(ticker, risk_free_rate)\n",
    "\n",
    "print(\"Sharpe Ratios:\")\n",
    "for ticker, sharpe_ratio in sharpe_ratios.items():\n",
    "    print(ticker,sharpe_ratio)\n"
   ]
  },
  {
   "cell_type": "markdown",
   "metadata": {},
   "source": [
    "## Group Assignment\n",
    "### Team Number: XX\n",
    "### Team Member Names:\n",
    "### Team Strategy Chosen: __________(Market Beat or Market Meet)"
   ]
  },
  {
   "cell_type": "markdown",
   "metadata": {},
   "source": [
    "Disclose any use of AI for this assignment below (detail where and how you used it).  Please see the course outline for acceptable uses of AI.\n"
   ]
  },
  {
   "cell_type": "code",
   "execution_count": null,
   "metadata": {},
   "outputs": [],
   "source": []
  },
  {
   "cell_type": "markdown",
   "metadata": {},
   "source": [
    "## Contribution Declaration\n",
    "\n",
    "The following team members made a meaningful contribution to this assignment:\n",
    "\n",
    "Insert Names Here."
   ]
  }
 ],
 "metadata": {
  "kernelspec": {
   "display_name": "venv",
   "language": "python",
   "name": "python3"
  },
  "language_info": {
   "codemirror_mode": {
    "name": "ipython",
    "version": 3
   },
   "file_extension": ".py",
   "mimetype": "text/x-python",
   "name": "python",
   "nbconvert_exporter": "python",
   "pygments_lexer": "ipython3",
   "version": "3.9.19"
  }
 },
 "nbformat": 4,
 "nbformat_minor": 2
}
