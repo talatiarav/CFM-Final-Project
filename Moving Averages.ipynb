{
 "cells": [
  {
   "cell_type": "code",
   "execution_count": 1,
   "metadata": {},
   "outputs": [],
   "source": [
    "#These are the libraries you can use.  You may add any libraries directy related to threading if this is a direction\n",
    "#you wish to go (this is not from the course, so it's entirely on you if you wish to use threading).  Any\n",
    "#further libraries you wish to use you must email me, james@uwaterloo.ca, for permission.\n",
    "\n",
    "from IPython.display import display, Math, Latex\n",
    "\n",
    "import pandas as pd\n",
    "import numpy as np\n",
    "import numpy_financial as npf\n",
    "import yfinance as yf\n",
    "import matplotlib.pyplot as plt\n",
    "import random\n",
    "from datetime import datetime"
   ]
  },
  {
   "cell_type": "markdown",
   "metadata": {},
   "source": [
    "## Group Assignment\n",
    "### Team Number: 4\n",
    "### Team Member Names: Iris Hu, Nyra Rodrigues, Arav Talati\n",
    "### Team Strategy Chosen: Market Beat (Market Beat or Market Meet)"
   ]
  },
  {
   "cell_type": "markdown",
   "metadata": {},
   "source": [
    "Disclose any use of AI for this assignment below (detail where and how you used it).  Please see the course outline for acceptable uses of AI.\n"
   ]
  },
  {
   "cell_type": "code",
   "execution_count": 4,
   "metadata": {},
   "outputs": [
    {
     "data": {
      "text/html": [
       "<div>\n",
       "<style scoped>\n",
       "    .dataframe tbody tr th:only-of-type {\n",
       "        vertical-align: middle;\n",
       "    }\n",
       "\n",
       "    .dataframe tbody tr th {\n",
       "        vertical-align: top;\n",
       "    }\n",
       "\n",
       "    .dataframe thead th {\n",
       "        text-align: right;\n",
       "    }\n",
       "</style>\n",
       "<table border=\"1\" class=\"dataframe\">\n",
       "  <thead>\n",
       "    <tr style=\"text-align: right;\">\n",
       "      <th></th>\n",
       "      <th>Tickers</th>\n",
       "    </tr>\n",
       "  </thead>\n",
       "  <tbody>\n",
       "    <tr>\n",
       "      <th>36</th>\n",
       "      <td>TXN</td>\n",
       "    </tr>\n",
       "    <tr>\n",
       "      <th>37</th>\n",
       "      <td>UNH</td>\n",
       "    </tr>\n",
       "    <tr>\n",
       "      <th>38</th>\n",
       "      <td>UNP</td>\n",
       "    </tr>\n",
       "    <tr>\n",
       "      <th>39</th>\n",
       "      <td>UPS</td>\n",
       "    </tr>\n",
       "    <tr>\n",
       "      <th>40</th>\n",
       "      <td>USB</td>\n",
       "    </tr>\n",
       "  </tbody>\n",
       "</table>\n",
       "</div>"
      ],
      "text/plain": [
       "   Tickers\n",
       "36     TXN\n",
       "37     UNH\n",
       "38     UNP\n",
       "39     UPS\n",
       "40     USB"
      ]
     },
     "execution_count": 4,
     "metadata": {},
     "output_type": "execute_result"
    }
   ],
   "source": [
    "tickers_df = pd.DataFrame()\n",
    "tickers_df['Tickers'] = pd.read_csv('Tickers_Example.csv')\n",
    "tickers_df.loc[-1] = ['AAPL']  # adding a row\n",
    "tickers_df.index = tickers_df.index + 1  # shifting index\n",
    "tickers_df.sort_index(inplace=True)\n",
    "tickers_df.tail()"
   ]
  },
  {
   "cell_type": "code",
   "execution_count": 5,
   "metadata": {},
   "outputs": [
    {
     "data": {
      "text/html": [
       "<div>\n",
       "<style scoped>\n",
       "    .dataframe tbody tr th:only-of-type {\n",
       "        vertical-align: middle;\n",
       "    }\n",
       "\n",
       "    .dataframe tbody tr th {\n",
       "        vertical-align: top;\n",
       "    }\n",
       "\n",
       "    .dataframe thead th {\n",
       "        text-align: right;\n",
       "    }\n",
       "</style>\n",
       "<table border=\"1\" class=\"dataframe\">\n",
       "  <thead>\n",
       "    <tr style=\"text-align: right;\">\n",
       "      <th></th>\n",
       "      <th>Open</th>\n",
       "      <th>High</th>\n",
       "      <th>Low</th>\n",
       "      <th>Close</th>\n",
       "      <th>Volume</th>\n",
       "      <th>Dividends</th>\n",
       "      <th>Stock Splits</th>\n",
       "    </tr>\n",
       "    <tr>\n",
       "      <th>Date</th>\n",
       "      <th></th>\n",
       "      <th></th>\n",
       "      <th></th>\n",
       "      <th></th>\n",
       "      <th></th>\n",
       "      <th></th>\n",
       "      <th></th>\n",
       "    </tr>\n",
       "  </thead>\n",
       "  <tbody>\n",
       "    <tr>\n",
       "      <th>2022-01-03</th>\n",
       "      <td>174.963944</td>\n",
       "      <td>179.932557</td>\n",
       "      <td>174.845883</td>\n",
       "      <td>179.076569</td>\n",
       "      <td>104487900</td>\n",
       "      <td>0.0</td>\n",
       "      <td>0.0</td>\n",
       "    </tr>\n",
       "    <tr>\n",
       "      <th>2022-01-04</th>\n",
       "      <td>179.686603</td>\n",
       "      <td>179.991605</td>\n",
       "      <td>176.233164</td>\n",
       "      <td>176.803818</td>\n",
       "      <td>99310400</td>\n",
       "      <td>0.0</td>\n",
       "      <td>0.0</td>\n",
       "    </tr>\n",
       "    <tr>\n",
       "      <th>2022-01-05</th>\n",
       "      <td>176.715260</td>\n",
       "      <td>177.266232</td>\n",
       "      <td>171.825359</td>\n",
       "      <td>172.100845</td>\n",
       "      <td>94537600</td>\n",
       "      <td>0.0</td>\n",
       "      <td>0.0</td>\n",
       "    </tr>\n",
       "    <tr>\n",
       "      <th>2022-01-06</th>\n",
       "      <td>169.916620</td>\n",
       "      <td>172.474723</td>\n",
       "      <td>168.873707</td>\n",
       "      <td>169.227905</td>\n",
       "      <td>96904000</td>\n",
       "      <td>0.0</td>\n",
       "      <td>0.0</td>\n",
       "    </tr>\n",
       "    <tr>\n",
       "      <th>2022-01-07</th>\n",
       "      <td>170.103585</td>\n",
       "      <td>171.333439</td>\n",
       "      <td>168.273561</td>\n",
       "      <td>169.395187</td>\n",
       "      <td>86709100</td>\n",
       "      <td>0.0</td>\n",
       "      <td>0.0</td>\n",
       "    </tr>\n",
       "  </tbody>\n",
       "</table>\n",
       "</div>"
      ],
      "text/plain": [
       "                  Open        High         Low       Close     Volume  \\\n",
       "Date                                                                    \n",
       "2022-01-03  174.963944  179.932557  174.845883  179.076569  104487900   \n",
       "2022-01-04  179.686603  179.991605  176.233164  176.803818   99310400   \n",
       "2022-01-05  176.715260  177.266232  171.825359  172.100845   94537600   \n",
       "2022-01-06  169.916620  172.474723  168.873707  169.227905   96904000   \n",
       "2022-01-07  170.103585  171.333439  168.273561  169.395187   86709100   \n",
       "\n",
       "            Dividends  Stock Splits  \n",
       "Date                                 \n",
       "2022-01-03        0.0           0.0  \n",
       "2022-01-04        0.0           0.0  \n",
       "2022-01-05        0.0           0.0  \n",
       "2022-01-06        0.0           0.0  \n",
       "2022-01-07        0.0           0.0  "
      ]
     },
     "execution_count": 5,
     "metadata": {},
     "output_type": "execute_result"
    }
   ],
   "source": [
    "start_date = '2022-01-01'\n",
    "end_date = '2024-11-19'\n",
    "\n",
    "apple = yf.Ticker('AAPL')\n",
    "apple_hist = apple.history(start=start_date, end=end_date)\n",
    "apple_hist.index = apple_hist.index.strftime('%Y-%m-%d')\n",
    "apple_hist.head()"
   ]
  },
  {
   "cell_type": "code",
   "execution_count": 6,
   "metadata": {},
   "outputs": [
    {
     "data": {
      "text/html": [
       "<div>\n",
       "<style scoped>\n",
       "    .dataframe tbody tr th:only-of-type {\n",
       "        vertical-align: middle;\n",
       "    }\n",
       "\n",
       "    .dataframe tbody tr th {\n",
       "        vertical-align: top;\n",
       "    }\n",
       "\n",
       "    .dataframe thead th {\n",
       "        text-align: right;\n",
       "    }\n",
       "</style>\n",
       "<table border=\"1\" class=\"dataframe\">\n",
       "  <thead>\n",
       "    <tr style=\"text-align: right;\">\n",
       "      <th></th>\n",
       "      <th>Close</th>\n",
       "      <th>EMA Short</th>\n",
       "      <th>EMA Long</th>\n",
       "    </tr>\n",
       "    <tr>\n",
       "      <th>Date</th>\n",
       "      <th></th>\n",
       "      <th></th>\n",
       "      <th></th>\n",
       "    </tr>\n",
       "  </thead>\n",
       "  <tbody>\n",
       "    <tr>\n",
       "      <th>2024-11-12</th>\n",
       "      <td>224.229996</td>\n",
       "      <td>224.880611</td>\n",
       "      <td>226.067672</td>\n",
       "    </tr>\n",
       "    <tr>\n",
       "      <th>2024-11-13</th>\n",
       "      <td>225.119995</td>\n",
       "      <td>224.960406</td>\n",
       "      <td>226.030508</td>\n",
       "    </tr>\n",
       "    <tr>\n",
       "      <th>2024-11-14</th>\n",
       "      <td>228.220001</td>\n",
       "      <td>226.046937</td>\n",
       "      <td>226.116371</td>\n",
       "    </tr>\n",
       "    <tr>\n",
       "      <th>2024-11-15</th>\n",
       "      <td>225.000000</td>\n",
       "      <td>225.697958</td>\n",
       "      <td>226.072592</td>\n",
       "    </tr>\n",
       "    <tr>\n",
       "      <th>2024-11-18</th>\n",
       "      <td>228.020004</td>\n",
       "      <td>226.471974</td>\n",
       "      <td>226.148961</td>\n",
       "    </tr>\n",
       "  </tbody>\n",
       "</table>\n",
       "</div>"
      ],
      "text/plain": [
       "                 Close   EMA Short    EMA Long\n",
       "Date                                          \n",
       "2024-11-12  224.229996  224.880611  226.067672\n",
       "2024-11-13  225.119995  224.960406  226.030508\n",
       "2024-11-14  228.220001  226.046937  226.116371\n",
       "2024-11-15  225.000000  225.697958  226.072592\n",
       "2024-11-18  228.020004  226.471974  226.148961"
      ]
     },
     "execution_count": 6,
     "metadata": {},
     "output_type": "execute_result"
    }
   ],
   "source": [
    "apple_hist['EMA Short'] = apple_hist['Close'].ewm(span=5, adjust=True, min_periods=5).mean()\n",
    "apple_hist['EMA Long'] = apple_hist['Close'].ewm(span=50, adjust=True, min_periods=5).mean()\n",
    "apple_hist = apple_hist.drop(['Open', 'High', 'Low', 'Volume', 'Dividends', 'Stock Splits'], axis=1)\n",
    "apple_hist.tail()"
   ]
  },
  {
   "cell_type": "code",
   "execution_count": 7,
   "metadata": {},
   "outputs": [
    {
     "name": "stdout",
     "output_type": "stream",
     "text": [
      "0.3230129937551567\n"
     ]
    }
   ],
   "source": [
    "projected_returns = apple_hist['EMA Short'].iloc[len(apple_hist)-1] - apple_hist['EMA Long'].iloc[len(apple_hist)-1]\n",
    "print(projected_returns)"
   ]
  },
  {
   "cell_type": "code",
   "execution_count": 8,
   "metadata": {},
   "outputs": [
    {
     "name": "stderr",
     "output_type": "stream",
     "text": [
      "Failed to get ticker 'AGN' reason: Expecting value: line 1 column 1 (char 0)\n",
      "$AGN: possibly delisted; no timezone found\n"
     ]
    },
    {
     "data": {
      "text/html": [
       "<div>\n",
       "<style scoped>\n",
       "    .dataframe tbody tr th:only-of-type {\n",
       "        vertical-align: middle;\n",
       "    }\n",
       "\n",
       "    .dataframe tbody tr th {\n",
       "        vertical-align: top;\n",
       "    }\n",
       "\n",
       "    .dataframe thead th {\n",
       "        text-align: right;\n",
       "    }\n",
       "</style>\n",
       "<table border=\"1\" class=\"dataframe\">\n",
       "  <thead>\n",
       "    <tr style=\"text-align: right;\">\n",
       "      <th></th>\n",
       "      <th>Open</th>\n",
       "      <th>High</th>\n",
       "      <th>Low</th>\n",
       "      <th>Close</th>\n",
       "      <th>Adj Close</th>\n",
       "      <th>Volume</th>\n",
       "    </tr>\n",
       "    <tr>\n",
       "      <th>Date</th>\n",
       "      <th></th>\n",
       "      <th></th>\n",
       "      <th></th>\n",
       "      <th></th>\n",
       "      <th></th>\n",
       "      <th></th>\n",
       "    </tr>\n",
       "  </thead>\n",
       "  <tbody>\n",
       "  </tbody>\n",
       "</table>\n",
       "</div>"
      ],
      "text/plain": [
       "Empty DataFrame\n",
       "Columns: [Open, High, Low, Close, Adj Close, Volume]\n",
       "Index: []"
      ]
     },
     "execution_count": 8,
     "metadata": {},
     "output_type": "execute_result"
    }
   ],
   "source": [
    "ticker = yf.Ticker(tickers_df['Tickers'].iloc[4])\n",
    "ticker_hist = ticker.history(start=start_date, end=end_date)\n",
    "ticker_hist"
   ]
  },
  {
   "cell_type": "code",
   "execution_count": 9,
   "metadata": {},
   "outputs": [
    {
     "name": "stdout",
     "output_type": "stream",
     "text": [
      "AAPL : 1.0995210994809383\n"
     ]
    },
    {
     "name": "stderr",
     "output_type": "stream",
     "text": [
      "$ABBV: possibly delisted; no price data found  (1d 2022-01-01 -> 2024-11-19)\n"
     ]
    },
    {
     "name": "stdout",
     "output_type": "stream",
     "text": [
      "ABBV : -10000.0\n",
      "ABT : 2.0371679997139154\n"
     ]
    },
    {
     "name": "stderr",
     "output_type": "stream",
     "text": [
      "$ACN: possibly delisted; no price data found  (1d 2022-01-01 -> 2024-11-19)\n",
      "Failed to get ticker 'AGN' reason: Expecting value: line 1 column 1 (char 0)\n",
      "$AGN: possibly delisted; no timezone found\n"
     ]
    },
    {
     "name": "stdout",
     "output_type": "stream",
     "text": [
      "ACN : -10000.0\n",
      "AGN : -10000.0\n"
     ]
    },
    {
     "name": "stderr",
     "output_type": "stream",
     "text": [
      "$AIG: possibly delisted; no price data found  (1d 2022-01-01 -> 2024-11-19)\n"
     ]
    },
    {
     "name": "stdout",
     "output_type": "stream",
     "text": [
      "AIG : -10000.0\n",
      "AMZN : 9.818923542198405\n"
     ]
    },
    {
     "name": "stderr",
     "output_type": "stream",
     "text": [
      "$AXP: possibly delisted; no price data found  (1d 2022-01-01 -> 2024-11-19)\n"
     ]
    },
    {
     "name": "stdout",
     "output_type": "stream",
     "text": [
      "AXP : -10000.0\n",
      "BA : -11.347588764747485\n",
      "BAC : 4.2403226184164495\n",
      "BB.TO : 0.04231469042351321\n",
      "BIIB : -24.305336428647053\n",
      "BK : 4.527997089137955\n",
      "BLK : 72.73012438471517\n",
      "BMY : 3.7663148928258465\n",
      "C : 4.8048780466231875\n",
      "CAT : 4.45725187736781\n"
     ]
    },
    {
     "name": "stderr",
     "output_type": "stream",
     "text": [
      "Failed to get ticker 'CELG' reason: HTTPSConnectionPool(host='query2.finance.yahoo.com', port=443): Read timed out. (read timeout=10)\n",
      "$CELG: possibly delisted; no timezone found\n"
     ]
    },
    {
     "name": "stdout",
     "output_type": "stream",
     "text": [
      "CELG : -10000.0\n",
      "CL : -3.039113037243581\n"
     ]
    },
    {
     "name": "stderr",
     "output_type": "stream",
     "text": [
      "$KO: possibly delisted; no price data found  (1d 2022-01-01 -> 2024-11-19)\n"
     ]
    },
    {
     "name": "stdout",
     "output_type": "stream",
     "text": [
      "KO : -10000.0\n",
      "LLY : -118.79757169549328\n"
     ]
    },
    {
     "name": "stderr",
     "output_type": "stream",
     "text": [
      "$LMT: possibly delisted; no price data found  (1d 2022-01-01 -> 2024-11-19)\n"
     ]
    },
    {
     "name": "stdout",
     "output_type": "stream",
     "text": [
      "LMT : -10000.0\n",
      "MO : 4.179059087756258\n"
     ]
    },
    {
     "name": "stderr",
     "output_type": "stream",
     "text": [
      "$MON: possibly delisted; no timezone found\n"
     ]
    },
    {
     "name": "stdout",
     "output_type": "stream",
     "text": [
      "MON : -10000.0\n",
      "MRK : -10.14236946195409\n",
      "PEP : -9.636551519758683\n",
      "PFE : -2.7064835131269405\n"
     ]
    },
    {
     "name": "stderr",
     "output_type": "stream",
     "text": [
      "$PG: possibly delisted; no price data found  (1d 2022-01-01 -> 2024-11-19)\n"
     ]
    },
    {
     "name": "stdout",
     "output_type": "stream",
     "text": [
      "PG : -10000.0\n",
      "PM : 6.3626780733866894\n",
      "PYPL : 6.026428163717952\n",
      "QCOM : -5.435308245031905\n"
     ]
    },
    {
     "name": "stderr",
     "output_type": "stream",
     "text": [
      "$RTN: possibly delisted; no timezone found\n"
     ]
    },
    {
     "name": "stdout",
     "output_type": "stream",
     "text": [
      "RTN : -10000.0\n",
      "RY.TO : 4.068155680246434\n"
     ]
    },
    {
     "name": "stderr",
     "output_type": "stream",
     "text": [
      "$SHOP.TO: possibly delisted; no price data found  (1d 2022-01-01 -> 2024-11-19)\n"
     ]
    },
    {
     "name": "stdout",
     "output_type": "stream",
     "text": [
      "SHOP.TO : -10000.0\n",
      "T.TO : -0.40334461818840595\n",
      "TD.TO : -0.7160181431733577\n",
      "TXN : 1.5826965427025073\n",
      "UNH : 9.933101236259972\n",
      "UNP : -4.715880233131344\n",
      "UPS : 2.8318727552506004\n"
     ]
    },
    {
     "data": {
      "text/html": [
       "<div>\n",
       "<style scoped>\n",
       "    .dataframe tbody tr th:only-of-type {\n",
       "        vertical-align: middle;\n",
       "    }\n",
       "\n",
       "    .dataframe tbody tr th {\n",
       "        vertical-align: top;\n",
       "    }\n",
       "\n",
       "    .dataframe thead th {\n",
       "        text-align: right;\n",
       "    }\n",
       "</style>\n",
       "<table border=\"1\" class=\"dataframe\">\n",
       "  <thead>\n",
       "    <tr style=\"text-align: right;\">\n",
       "      <th></th>\n",
       "      <th>Tickers</th>\n",
       "      <th>Projected Returns</th>\n",
       "    </tr>\n",
       "  </thead>\n",
       "  <tbody>\n",
       "    <tr>\n",
       "      <th>13</th>\n",
       "      <td>BLK</td>\n",
       "      <td>72.730124</td>\n",
       "    </tr>\n",
       "    <tr>\n",
       "      <th>37</th>\n",
       "      <td>UNH</td>\n",
       "      <td>9.933101</td>\n",
       "    </tr>\n",
       "    <tr>\n",
       "      <th>6</th>\n",
       "      <td>AMZN</td>\n",
       "      <td>9.818924</td>\n",
       "    </tr>\n",
       "    <tr>\n",
       "      <th>28</th>\n",
       "      <td>PM</td>\n",
       "      <td>6.362678</td>\n",
       "    </tr>\n",
       "    <tr>\n",
       "      <th>29</th>\n",
       "      <td>PYPL</td>\n",
       "      <td>6.026428</td>\n",
       "    </tr>\n",
       "    <tr>\n",
       "      <th>15</th>\n",
       "      <td>C</td>\n",
       "      <td>4.804878</td>\n",
       "    </tr>\n",
       "    <tr>\n",
       "      <th>12</th>\n",
       "      <td>BK</td>\n",
       "      <td>4.527997</td>\n",
       "    </tr>\n",
       "    <tr>\n",
       "      <th>16</th>\n",
       "      <td>CAT</td>\n",
       "      <td>4.457252</td>\n",
       "    </tr>\n",
       "    <tr>\n",
       "      <th>9</th>\n",
       "      <td>BAC</td>\n",
       "      <td>4.240323</td>\n",
       "    </tr>\n",
       "    <tr>\n",
       "      <th>22</th>\n",
       "      <td>MO</td>\n",
       "      <td>4.179059</td>\n",
       "    </tr>\n",
       "    <tr>\n",
       "      <th>32</th>\n",
       "      <td>RY.TO</td>\n",
       "      <td>4.068156</td>\n",
       "    </tr>\n",
       "    <tr>\n",
       "      <th>14</th>\n",
       "      <td>BMY</td>\n",
       "      <td>3.766315</td>\n",
       "    </tr>\n",
       "    <tr>\n",
       "      <th>39</th>\n",
       "      <td>UPS</td>\n",
       "      <td>2.831873</td>\n",
       "    </tr>\n",
       "    <tr>\n",
       "      <th>2</th>\n",
       "      <td>ABT</td>\n",
       "      <td>2.037168</td>\n",
       "    </tr>\n",
       "    <tr>\n",
       "      <th>36</th>\n",
       "      <td>TXN</td>\n",
       "      <td>1.582697</td>\n",
       "    </tr>\n",
       "    <tr>\n",
       "      <th>0</th>\n",
       "      <td>AAPL</td>\n",
       "      <td>1.099521</td>\n",
       "    </tr>\n",
       "    <tr>\n",
       "      <th>10</th>\n",
       "      <td>BB.TO</td>\n",
       "      <td>0.042315</td>\n",
       "    </tr>\n",
       "    <tr>\n",
       "      <th>40</th>\n",
       "      <td>USB</td>\n",
       "      <td>0.000000</td>\n",
       "    </tr>\n",
       "    <tr>\n",
       "      <th>34</th>\n",
       "      <td>T.TO</td>\n",
       "      <td>-0.403345</td>\n",
       "    </tr>\n",
       "    <tr>\n",
       "      <th>35</th>\n",
       "      <td>TD.TO</td>\n",
       "      <td>-0.716018</td>\n",
       "    </tr>\n",
       "    <tr>\n",
       "      <th>26</th>\n",
       "      <td>PFE</td>\n",
       "      <td>-2.706484</td>\n",
       "    </tr>\n",
       "    <tr>\n",
       "      <th>18</th>\n",
       "      <td>CL</td>\n",
       "      <td>-3.039113</td>\n",
       "    </tr>\n",
       "    <tr>\n",
       "      <th>38</th>\n",
       "      <td>UNP</td>\n",
       "      <td>-4.715880</td>\n",
       "    </tr>\n",
       "    <tr>\n",
       "      <th>30</th>\n",
       "      <td>QCOM</td>\n",
       "      <td>-5.435308</td>\n",
       "    </tr>\n",
       "    <tr>\n",
       "      <th>25</th>\n",
       "      <td>PEP</td>\n",
       "      <td>-9.636552</td>\n",
       "    </tr>\n",
       "    <tr>\n",
       "      <th>24</th>\n",
       "      <td>MRK</td>\n",
       "      <td>-10.142369</td>\n",
       "    </tr>\n",
       "    <tr>\n",
       "      <th>8</th>\n",
       "      <td>BA</td>\n",
       "      <td>-11.347589</td>\n",
       "    </tr>\n",
       "    <tr>\n",
       "      <th>11</th>\n",
       "      <td>BIIB</td>\n",
       "      <td>-24.305336</td>\n",
       "    </tr>\n",
       "    <tr>\n",
       "      <th>20</th>\n",
       "      <td>LLY</td>\n",
       "      <td>-118.797572</td>\n",
       "    </tr>\n",
       "    <tr>\n",
       "      <th>27</th>\n",
       "      <td>PG</td>\n",
       "      <td>-10000.000000</td>\n",
       "    </tr>\n",
       "    <tr>\n",
       "      <th>19</th>\n",
       "      <td>KO</td>\n",
       "      <td>-10000.000000</td>\n",
       "    </tr>\n",
       "    <tr>\n",
       "      <th>23</th>\n",
       "      <td>MON</td>\n",
       "      <td>-10000.000000</td>\n",
       "    </tr>\n",
       "    <tr>\n",
       "      <th>31</th>\n",
       "      <td>RTN</td>\n",
       "      <td>-10000.000000</td>\n",
       "    </tr>\n",
       "    <tr>\n",
       "      <th>7</th>\n",
       "      <td>AXP</td>\n",
       "      <td>-10000.000000</td>\n",
       "    </tr>\n",
       "    <tr>\n",
       "      <th>33</th>\n",
       "      <td>SHOP.TO</td>\n",
       "      <td>-10000.000000</td>\n",
       "    </tr>\n",
       "    <tr>\n",
       "      <th>17</th>\n",
       "      <td>CELG</td>\n",
       "      <td>-10000.000000</td>\n",
       "    </tr>\n",
       "    <tr>\n",
       "      <th>21</th>\n",
       "      <td>LMT</td>\n",
       "      <td>-10000.000000</td>\n",
       "    </tr>\n",
       "    <tr>\n",
       "      <th>5</th>\n",
       "      <td>AIG</td>\n",
       "      <td>-10000.000000</td>\n",
       "    </tr>\n",
       "    <tr>\n",
       "      <th>4</th>\n",
       "      <td>AGN</td>\n",
       "      <td>-10000.000000</td>\n",
       "    </tr>\n",
       "    <tr>\n",
       "      <th>1</th>\n",
       "      <td>ABBV</td>\n",
       "      <td>-10000.000000</td>\n",
       "    </tr>\n",
       "    <tr>\n",
       "      <th>3</th>\n",
       "      <td>ACN</td>\n",
       "      <td>-10000.000000</td>\n",
       "    </tr>\n",
       "  </tbody>\n",
       "</table>\n",
       "</div>"
      ],
      "text/plain": [
       "    Tickers  Projected Returns\n",
       "13      BLK          72.730124\n",
       "37      UNH           9.933101\n",
       "6      AMZN           9.818924\n",
       "28       PM           6.362678\n",
       "29     PYPL           6.026428\n",
       "15        C           4.804878\n",
       "12       BK           4.527997\n",
       "16      CAT           4.457252\n",
       "9       BAC           4.240323\n",
       "22       MO           4.179059\n",
       "32    RY.TO           4.068156\n",
       "14      BMY           3.766315\n",
       "39      UPS           2.831873\n",
       "2       ABT           2.037168\n",
       "36      TXN           1.582697\n",
       "0      AAPL           1.099521\n",
       "10    BB.TO           0.042315\n",
       "40      USB           0.000000\n",
       "34     T.TO          -0.403345\n",
       "35    TD.TO          -0.716018\n",
       "26      PFE          -2.706484\n",
       "18       CL          -3.039113\n",
       "38      UNP          -4.715880\n",
       "30     QCOM          -5.435308\n",
       "25      PEP          -9.636552\n",
       "24      MRK         -10.142369\n",
       "8        BA         -11.347589\n",
       "11     BIIB         -24.305336\n",
       "20      LLY        -118.797572\n",
       "27       PG      -10000.000000\n",
       "19       KO      -10000.000000\n",
       "23      MON      -10000.000000\n",
       "31      RTN      -10000.000000\n",
       "7       AXP      -10000.000000\n",
       "33  SHOP.TO      -10000.000000\n",
       "17     CELG      -10000.000000\n",
       "21      LMT      -10000.000000\n",
       "5       AIG      -10000.000000\n",
       "4       AGN      -10000.000000\n",
       "1      ABBV      -10000.000000\n",
       "3       ACN      -10000.000000"
      ]
     },
     "execution_count": 9,
     "metadata": {},
     "output_type": "execute_result"
    }
   ],
   "source": [
    "tickers_df['Projected Returns'] = 0.0\n",
    "for i in range(len(tickers_df)-1):\n",
    "    try:\n",
    "        ticker = yf.Ticker(tickers_df['Tickers'].iloc[i])\n",
    "        ticker_hist = ticker.history(start=start_date, end=end_date)\n",
    "        ticker_hist['EMA Short'] = ticker_hist['Close'].ewm(span=2, adjust=True, min_periods=5).mean()\n",
    "        ticker_hist['EMA Long'] = ticker_hist['Close'].ewm(span=50, adjust=True, min_periods=5).mean()\n",
    "        if ticker_hist.empty:\n",
    "            tickers_df.loc[i, 'Projected Returns'] = -10000\n",
    "            print(tickers_df.loc[i, 'Tickers'], \":\", tickers_df.loc[i, 'Projected Returns'])\n",
    "        tickers_df.loc[i, 'Projected Returns'] = ticker_hist['EMA Short'].iloc[len(ticker_hist)-1] - ticker_hist['EMA Long'].iloc[len(ticker_hist)-1]\n",
    "        print(tickers_df.loc[i, 'Tickers'], \":\", tickers_df.loc[i, 'Projected Returns'])\n",
    "    except:\n",
    "        pass\n",
    "\n",
    "tickers_df = tickers_df.sort_values(by=['Projected Returns'], ascending=False)\n",
    "tickers_df"
   ]
  },
  {
   "cell_type": "code",
   "execution_count": 10,
   "metadata": {},
   "outputs": [],
   "source": [
    "#min weighting: 4.167%\n",
    "#max weighting: 15%"
   ]
  },
  {
   "cell_type": "markdown",
   "metadata": {},
   "source": [
    "## Contribution Declaration\n",
    "\n",
    "The following team members made a meaningful contribution to this assignment:\n",
    "\n",
    "Insert Names Here."
   ]
  }
 ],
 "metadata": {
  "kernelspec": {
   "display_name": "Python 3 (ipykernel)",
   "language": "python",
   "name": "python3"
  },
  "language_info": {
   "codemirror_mode": {
    "name": "ipython",
    "version": 3
   },
   "file_extension": ".py",
   "mimetype": "text/x-python",
   "name": "python",
   "nbconvert_exporter": "python",
   "pygments_lexer": "ipython3",
   "version": "3.12.4"
  }
 },
 "nbformat": 4,
 "nbformat_minor": 4
}
